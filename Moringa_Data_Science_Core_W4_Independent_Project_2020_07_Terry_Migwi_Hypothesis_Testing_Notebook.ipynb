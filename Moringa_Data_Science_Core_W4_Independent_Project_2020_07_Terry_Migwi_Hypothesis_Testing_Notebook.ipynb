{
  "nbformat": 4,
  "nbformat_minor": 0,
  "metadata": {
    "colab": {
      "name": "Moringa_Data_Science_Core_W4_Independent_Project_2020_07_Terry_Migwi_Hypothesis_Testing_Notebook",
      "provenance": [],
      "collapsed_sections": [],
      "toc_visible": true,
      "authorship_tag": "ABX9TyMPiL+0a58oYzanbgJEQ+Ic",
      "include_colab_link": true
    },
    "kernelspec": {
      "name": "python3",
      "display_name": "Python 3"
    }
  },
  "cells": [
    {
      "cell_type": "markdown",
      "metadata": {
        "id": "view-in-github",
        "colab_type": "text"
      },
      "source": [
        "<a href=\"https://colab.research.google.com/github/Terry-Migwi/Hypothesis_Testing/blob/master/Moringa_Data_Science_Core_W4_Independent_Project_2020_07_Terry_Migwi_Hypothesis_Testing_Notebook.ipynb\" target=\"_parent\"><img src=\"https://colab.research.google.com/assets/colab-badge.svg\" alt=\"Open In Colab\"/></a>"
      ]
    },
    {
      "cell_type": "markdown",
      "metadata": {
        "id": "5x6cY9945pcr"
      },
      "source": [
        "##Defining the Question"
      ]
    },
    {
      "cell_type": "markdown",
      "metadata": {
        "id": "rllqbBid5333"
      },
      "source": [
        "Is the demand (the number of cars taken) for the blue car higher in area codes that record more number of transactions?\n",
        "\n",
        "Is the demand lower in area codes that record less number of transactions? \n",
        "\n",
        "How do we tell the demand for area codes that record the same number of transactions?\n",
        "\n"
      ]
    },
    {
      "cell_type": "markdown",
      "metadata": {
        "id": "P6fVrKgC-kjr"
      },
      "source": [
        "##Metrics of success"
      ]
    },
    {
      "cell_type": "markdown",
      "metadata": {
        "id": "YtcWkmgd-pAy"
      },
      "source": [
        "1) Determine the total number of area/postal codes recorded in the data i.e the population\n",
        "\n",
        "2)Rank area codes in order of transactions recorded, from highest to lowest.  \n",
        "\n",
        "3)Conduct hypothesis testing around the particular question and follow through the steps of hypothesis testing correctly\n",
        "\n",
        "3)Choose the specific locations to work with i.e a sample\n",
        "\n",
        "4)Choose a specific time period to work with\n",
        "\n",
        "5)Make an appropriate conclusion and recommendations\n",
        " "
      ]
    },
    {
      "cell_type": "markdown",
      "metadata": {
        "id": "UhB33t_rMLx1"
      },
      "source": [
        "##Context"
      ]
    },
    {
      "cell_type": "markdown",
      "metadata": {
        "id": "T_yPIUmOMTv0"
      },
      "source": [
        "Autolib is an electric car sharing company that rents out three types of cars i.e the bluecar, utilib and the utilib 14. The company operates in different area codes/locations in the city of Paris and runs throughout the week. As the data scientist of the company, I have conducted prior analysis and have found out that the blue car is the most popular in comparison to the utilib and the utilib 14 cars. However, some people still have a prefence for the utilib and the utilib 14 cars hence all three types of cars are still supplied to the different locations. \n",
        "\n",
        "The management would like to understand how to improve their supply of the blue car as it is the most popular so as to cater for the demands of the people in the city of Paris. At the moment, there is no way to tell how high or low the demand for the blue car is in a certain area code. For this reason, there is an assumption that the number of transactions recorded for a given area code reflects to the demand of the blue car in that area code. As the data scientist of the company, I would like to investigate that claim and also look into the following hypothesis: \n",
        "\n",
        "Is it correct to say that the demand for the blue car is higher in area codes that have more number of records and vice versa? If this claim is correct, how do we tell the difference in demand for the blue car where area codes have an equal number of transactions recorded? Do we assume that since the area codes have the same number of transactions recorded then the demand for the blue car is equal in those area codes?\n",
        "\n",
        "By answering this question, I will help the management make better decisions when they are supplying/distributing the blue car to the different area codes. This will help avoid oversupply or undersupply of the blue car."
      ]
    },
    {
      "cell_type": "markdown",
      "metadata": {
        "id": "SEXBgE1kaePZ"
      },
      "source": [
        "##Experimental Design"
      ]
    },
    {
      "cell_type": "markdown",
      "metadata": {
        "id": "l5IvkG_Cai7Y"
      },
      "source": [
        "1) Importing necessary libraries and loading the datasets\n",
        "\n",
        "2) Checking the packaging of my dataset to understand my data better\n",
        "\n",
        "3) Data preparation and cleaning\n",
        "\n",
        "4) Performing univarite analysis and recording the observations\n",
        "\n",
        "5) Performing bivariate analysis and recording the observations\n",
        "\n",
        "6) Conducting hypothesis tests to the population to investigate the claim\n",
        "\n",
        "7) Getting a sample to represent my population \n",
        "\n",
        "8) Make a decision and conclusion\n",
        "\n",
        "9) Giving Recommendations"
      ]
    },
    {
      "cell_type": "markdown",
      "metadata": {
        "id": "sqCEq088co0i"
      },
      "source": [
        "##Data Relevance"
      ]
    },
    {
      "cell_type": "markdown",
      "metadata": {
        "id": "sFw2ZiE8cuY0"
      },
      "source": [
        "The data available seems to have all necessary information I need to conduct my analysis."
      ]
    },
    {
      "cell_type": "markdown",
      "metadata": {
        "id": "RwoGdosLxwMy"
      },
      "source": [
        "###Importing necessary libraries"
      ]
    },
    {
      "cell_type": "code",
      "metadata": {
        "id": "acBQtxhJy6H1",
        "colab": {
          "base_uri": "https://localhost:8080/",
          "height": 70
        },
        "outputId": "4b6c24b5-7fc2-494a-ea23-b1f6ea839852"
      },
      "source": [
        "import numpy as np\n",
        "import pandas as pd\n",
        "import matplotlib.pyplot as plt\n",
        "import seaborn as sns"
      ],
      "execution_count": null,
      "outputs": [
        {
          "output_type": "stream",
          "text": [
            "/usr/local/lib/python3.6/dist-packages/statsmodels/tools/_testing.py:19: FutureWarning: pandas.util.testing is deprecated. Use the functions in the public API at pandas.testing instead.\n",
            "  import pandas.util.testing as tm\n"
          ],
          "name": "stderr"
        }
      ]
    },
    {
      "cell_type": "markdown",
      "metadata": {
        "id": "499zDN5ayvuU"
      },
      "source": [
        "###Loading the dataset"
      ]
    },
    {
      "cell_type": "code",
      "metadata": {
        "id": "qMUxeM2II7oY"
      },
      "source": [
        "df = pd.read_csv('/content/autolib_daily_events_postal_code.csv') \n"
      ],
      "execution_count": null,
      "outputs": []
    },
    {
      "cell_type": "markdown",
      "metadata": {
        "id": "jDOHcroZzfvT"
      },
      "source": [
        "###Checking our dataset"
      ]
    },
    {
      "cell_type": "code",
      "metadata": {
        "id": "YU8DyS69yr8H",
        "colab": {
          "base_uri": "https://localhost:8080/",
          "height": 232
        },
        "outputId": "7e202f1e-fbf6-42d6-de1e-8535271db9a7"
      },
      "source": [
        "#checking the head of our dataset\n",
        "df.head()"
      ],
      "execution_count": null,
      "outputs": [
        {
          "output_type": "execute_result",
          "data": {
            "text/html": [
              "<div>\n",
              "<style scoped>\n",
              "    .dataframe tbody tr th:only-of-type {\n",
              "        vertical-align: middle;\n",
              "    }\n",
              "\n",
              "    .dataframe tbody tr th {\n",
              "        vertical-align: top;\n",
              "    }\n",
              "\n",
              "    .dataframe thead th {\n",
              "        text-align: right;\n",
              "    }\n",
              "</style>\n",
              "<table border=\"1\" class=\"dataframe\">\n",
              "  <thead>\n",
              "    <tr style=\"text-align: right;\">\n",
              "      <th></th>\n",
              "      <th>Postal code</th>\n",
              "      <th>date</th>\n",
              "      <th>n_daily_data_points</th>\n",
              "      <th>dayOfWeek</th>\n",
              "      <th>day_type</th>\n",
              "      <th>BlueCars_taken_sum</th>\n",
              "      <th>BlueCars_returned_sum</th>\n",
              "      <th>Utilib_taken_sum</th>\n",
              "      <th>Utilib_returned_sum</th>\n",
              "      <th>Utilib_14_taken_sum</th>\n",
              "      <th>Utilib_14_returned_sum</th>\n",
              "      <th>Slots_freed_sum</th>\n",
              "      <th>Slots_taken_sum</th>\n",
              "    </tr>\n",
              "  </thead>\n",
              "  <tbody>\n",
              "    <tr>\n",
              "      <th>0</th>\n",
              "      <td>75001</td>\n",
              "      <td>1/1/2018</td>\n",
              "      <td>1440</td>\n",
              "      <td>0</td>\n",
              "      <td>weekday</td>\n",
              "      <td>110</td>\n",
              "      <td>103</td>\n",
              "      <td>3</td>\n",
              "      <td>2</td>\n",
              "      <td>10</td>\n",
              "      <td>9</td>\n",
              "      <td>22</td>\n",
              "      <td>20</td>\n",
              "    </tr>\n",
              "    <tr>\n",
              "      <th>1</th>\n",
              "      <td>75001</td>\n",
              "      <td>1/2/2018</td>\n",
              "      <td>1438</td>\n",
              "      <td>1</td>\n",
              "      <td>weekday</td>\n",
              "      <td>98</td>\n",
              "      <td>94</td>\n",
              "      <td>1</td>\n",
              "      <td>1</td>\n",
              "      <td>8</td>\n",
              "      <td>8</td>\n",
              "      <td>23</td>\n",
              "      <td>22</td>\n",
              "    </tr>\n",
              "    <tr>\n",
              "      <th>2</th>\n",
              "      <td>75001</td>\n",
              "      <td>1/3/2018</td>\n",
              "      <td>1439</td>\n",
              "      <td>2</td>\n",
              "      <td>weekday</td>\n",
              "      <td>138</td>\n",
              "      <td>139</td>\n",
              "      <td>0</td>\n",
              "      <td>0</td>\n",
              "      <td>2</td>\n",
              "      <td>2</td>\n",
              "      <td>27</td>\n",
              "      <td>27</td>\n",
              "    </tr>\n",
              "    <tr>\n",
              "      <th>3</th>\n",
              "      <td>75001</td>\n",
              "      <td>1/4/2018</td>\n",
              "      <td>1320</td>\n",
              "      <td>3</td>\n",
              "      <td>weekday</td>\n",
              "      <td>104</td>\n",
              "      <td>104</td>\n",
              "      <td>2</td>\n",
              "      <td>2</td>\n",
              "      <td>9</td>\n",
              "      <td>8</td>\n",
              "      <td>25</td>\n",
              "      <td>21</td>\n",
              "    </tr>\n",
              "    <tr>\n",
              "      <th>4</th>\n",
              "      <td>75001</td>\n",
              "      <td>1/5/2018</td>\n",
              "      <td>1440</td>\n",
              "      <td>4</td>\n",
              "      <td>weekday</td>\n",
              "      <td>114</td>\n",
              "      <td>117</td>\n",
              "      <td>3</td>\n",
              "      <td>3</td>\n",
              "      <td>6</td>\n",
              "      <td>6</td>\n",
              "      <td>18</td>\n",
              "      <td>20</td>\n",
              "    </tr>\n",
              "  </tbody>\n",
              "</table>\n",
              "</div>"
            ],
            "text/plain": [
              "   Postal code      date  ...  Slots_freed_sum  Slots_taken_sum\n",
              "0        75001  1/1/2018  ...               22               20\n",
              "1        75001  1/2/2018  ...               23               22\n",
              "2        75001  1/3/2018  ...               27               27\n",
              "3        75001  1/4/2018  ...               25               21\n",
              "4        75001  1/5/2018  ...               18               20\n",
              "\n",
              "[5 rows x 13 columns]"
            ]
          },
          "metadata": {
            "tags": []
          },
          "execution_count": 3
        }
      ]
    },
    {
      "cell_type": "code",
      "metadata": {
        "id": "Yqe-J7x3zpic",
        "colab": {
          "base_uri": "https://localhost:8080/",
          "height": 232
        },
        "outputId": "2e13b4a6-5c8f-4e3f-98a7-c9ac074c8fae"
      },
      "source": [
        "#checking the tail of our dataset\n",
        "df.tail()"
      ],
      "execution_count": null,
      "outputs": [
        {
          "output_type": "execute_result",
          "data": {
            "text/html": [
              "<div>\n",
              "<style scoped>\n",
              "    .dataframe tbody tr th:only-of-type {\n",
              "        vertical-align: middle;\n",
              "    }\n",
              "\n",
              "    .dataframe tbody tr th {\n",
              "        vertical-align: top;\n",
              "    }\n",
              "\n",
              "    .dataframe thead th {\n",
              "        text-align: right;\n",
              "    }\n",
              "</style>\n",
              "<table border=\"1\" class=\"dataframe\">\n",
              "  <thead>\n",
              "    <tr style=\"text-align: right;\">\n",
              "      <th></th>\n",
              "      <th>Postal code</th>\n",
              "      <th>date</th>\n",
              "      <th>n_daily_data_points</th>\n",
              "      <th>dayOfWeek</th>\n",
              "      <th>day_type</th>\n",
              "      <th>BlueCars_taken_sum</th>\n",
              "      <th>BlueCars_returned_sum</th>\n",
              "      <th>Utilib_taken_sum</th>\n",
              "      <th>Utilib_returned_sum</th>\n",
              "      <th>Utilib_14_taken_sum</th>\n",
              "      <th>Utilib_14_returned_sum</th>\n",
              "      <th>Slots_freed_sum</th>\n",
              "      <th>Slots_taken_sum</th>\n",
              "    </tr>\n",
              "  </thead>\n",
              "  <tbody>\n",
              "    <tr>\n",
              "      <th>16080</th>\n",
              "      <td>95880</td>\n",
              "      <td>6/15/2018</td>\n",
              "      <td>1440</td>\n",
              "      <td>4</td>\n",
              "      <td>weekday</td>\n",
              "      <td>15</td>\n",
              "      <td>10</td>\n",
              "      <td>0</td>\n",
              "      <td>0</td>\n",
              "      <td>2</td>\n",
              "      <td>3</td>\n",
              "      <td>0</td>\n",
              "      <td>0</td>\n",
              "    </tr>\n",
              "    <tr>\n",
              "      <th>16081</th>\n",
              "      <td>95880</td>\n",
              "      <td>6/16/2018</td>\n",
              "      <td>1440</td>\n",
              "      <td>5</td>\n",
              "      <td>weekend</td>\n",
              "      <td>19</td>\n",
              "      <td>19</td>\n",
              "      <td>0</td>\n",
              "      <td>0</td>\n",
              "      <td>2</td>\n",
              "      <td>1</td>\n",
              "      <td>0</td>\n",
              "      <td>0</td>\n",
              "    </tr>\n",
              "    <tr>\n",
              "      <th>16082</th>\n",
              "      <td>95880</td>\n",
              "      <td>6/17/2018</td>\n",
              "      <td>1440</td>\n",
              "      <td>6</td>\n",
              "      <td>weekend</td>\n",
              "      <td>33</td>\n",
              "      <td>35</td>\n",
              "      <td>1</td>\n",
              "      <td>1</td>\n",
              "      <td>0</td>\n",
              "      <td>0</td>\n",
              "      <td>0</td>\n",
              "      <td>0</td>\n",
              "    </tr>\n",
              "    <tr>\n",
              "      <th>16083</th>\n",
              "      <td>95880</td>\n",
              "      <td>6/18/2018</td>\n",
              "      <td>1440</td>\n",
              "      <td>0</td>\n",
              "      <td>weekday</td>\n",
              "      <td>11</td>\n",
              "      <td>14</td>\n",
              "      <td>3</td>\n",
              "      <td>5</td>\n",
              "      <td>2</td>\n",
              "      <td>2</td>\n",
              "      <td>0</td>\n",
              "      <td>0</td>\n",
              "    </tr>\n",
              "    <tr>\n",
              "      <th>16084</th>\n",
              "      <td>95880</td>\n",
              "      <td>6/19/2018</td>\n",
              "      <td>1370</td>\n",
              "      <td>1</td>\n",
              "      <td>weekday</td>\n",
              "      <td>2</td>\n",
              "      <td>2</td>\n",
              "      <td>2</td>\n",
              "      <td>1</td>\n",
              "      <td>0</td>\n",
              "      <td>0</td>\n",
              "      <td>0</td>\n",
              "      <td>0</td>\n",
              "    </tr>\n",
              "  </tbody>\n",
              "</table>\n",
              "</div>"
            ],
            "text/plain": [
              "       Postal code       date  ...  Slots_freed_sum  Slots_taken_sum\n",
              "16080        95880  6/15/2018  ...                0                0\n",
              "16081        95880  6/16/2018  ...                0                0\n",
              "16082        95880  6/17/2018  ...                0                0\n",
              "16083        95880  6/18/2018  ...                0                0\n",
              "16084        95880  6/19/2018  ...                0                0\n",
              "\n",
              "[5 rows x 13 columns]"
            ]
          },
          "metadata": {
            "tags": []
          },
          "execution_count": 4
        }
      ]
    },
    {
      "cell_type": "code",
      "metadata": {
        "id": "Paype0cBz2fn",
        "colab": {
          "base_uri": "https://localhost:8080/",
          "height": 101
        },
        "outputId": "87409970-729f-4da2-a2e3-8da0beb86858"
      },
      "source": [
        "#checking our columns\n",
        "df.columns\n",
        "\n",
        "#the dataset has a total of 13 columns"
      ],
      "execution_count": null,
      "outputs": [
        {
          "output_type": "execute_result",
          "data": {
            "text/plain": [
              "Index(['Postal code', 'date', 'n_daily_data_points', 'dayOfWeek', 'day_type',\n",
              "       'BlueCars_taken_sum', 'BlueCars_returned_sum', 'Utilib_taken_sum',\n",
              "       'Utilib_returned_sum', 'Utilib_14_taken_sum', 'Utilib_14_returned_sum',\n",
              "       'Slots_freed_sum', 'Slots_taken_sum'],\n",
              "      dtype='object')"
            ]
          },
          "metadata": {
            "tags": []
          },
          "execution_count": 5
        }
      ]
    },
    {
      "cell_type": "code",
      "metadata": {
        "id": "YBawPV4Z0Utb",
        "colab": {
          "base_uri": "https://localhost:8080/",
          "height": 432
        },
        "outputId": "79d10fbf-d08b-4646-82ef-99cd3999047f"
      },
      "source": [
        "#loading the dataset with the explanation on columns to get a better understanding of the columns\n",
        "columns_df = pd.read_csv('/content/columns_explanation.csv')\n",
        "columns_df\n",
        "\n",
        "#the columns are clearly explained"
      ],
      "execution_count": null,
      "outputs": [
        {
          "output_type": "execute_result",
          "data": {
            "text/html": [
              "<div>\n",
              "<style scoped>\n",
              "    .dataframe tbody tr th:only-of-type {\n",
              "        vertical-align: middle;\n",
              "    }\n",
              "\n",
              "    .dataframe tbody tr th {\n",
              "        vertical-align: top;\n",
              "    }\n",
              "\n",
              "    .dataframe thead th {\n",
              "        text-align: right;\n",
              "    }\n",
              "</style>\n",
              "<table border=\"1\" class=\"dataframe\">\n",
              "  <thead>\n",
              "    <tr style=\"text-align: right;\">\n",
              "      <th></th>\n",
              "      <th>Column name</th>\n",
              "      <th>explanation</th>\n",
              "    </tr>\n",
              "  </thead>\n",
              "  <tbody>\n",
              "    <tr>\n",
              "      <th>0</th>\n",
              "      <td>Postal code</td>\n",
              "      <td>postal code of the area (in Paris)</td>\n",
              "    </tr>\n",
              "    <tr>\n",
              "      <th>1</th>\n",
              "      <td>date</td>\n",
              "      <td>date of the row aggregation</td>\n",
              "    </tr>\n",
              "    <tr>\n",
              "      <th>2</th>\n",
              "      <td>n_daily_data_points</td>\n",
              "      <td>number of daily data poinst that were availabl...</td>\n",
              "    </tr>\n",
              "    <tr>\n",
              "      <th>3</th>\n",
              "      <td>dayOfWeek</td>\n",
              "      <td>identifier of weekday (0: Monday -&gt; 6: Sunday)</td>\n",
              "    </tr>\n",
              "    <tr>\n",
              "      <th>4</th>\n",
              "      <td>day_type</td>\n",
              "      <td>weekday or weekend</td>\n",
              "    </tr>\n",
              "    <tr>\n",
              "      <th>5</th>\n",
              "      <td>BlueCars_taken_sum</td>\n",
              "      <td>Number of bluecars taken that date in that area</td>\n",
              "    </tr>\n",
              "    <tr>\n",
              "      <th>6</th>\n",
              "      <td>BlueCars_returned_sum</td>\n",
              "      <td>Number of bluecars returned that date in that ...</td>\n",
              "    </tr>\n",
              "    <tr>\n",
              "      <th>7</th>\n",
              "      <td>Utilib_taken_sum</td>\n",
              "      <td>Number of Utilib taken that date in that area</td>\n",
              "    </tr>\n",
              "    <tr>\n",
              "      <th>8</th>\n",
              "      <td>Utilib_returned_sum</td>\n",
              "      <td>Number of Utilib returned that date in that area</td>\n",
              "    </tr>\n",
              "    <tr>\n",
              "      <th>9</th>\n",
              "      <td>Utilib_14_taken_sum</td>\n",
              "      <td>Number of Utilib 1.4 taken that date in that area</td>\n",
              "    </tr>\n",
              "    <tr>\n",
              "      <th>10</th>\n",
              "      <td>Utilib_14_returned_sum</td>\n",
              "      <td>Number of Utilib 1.4 returned that date in tha...</td>\n",
              "    </tr>\n",
              "    <tr>\n",
              "      <th>11</th>\n",
              "      <td>Slots_freed_sum</td>\n",
              "      <td>Number of recharging slots released that date ...</td>\n",
              "    </tr>\n",
              "    <tr>\n",
              "      <th>12</th>\n",
              "      <td>Slots_taken_sum</td>\n",
              "      <td>Number of rechargign slots taken that date in ...</td>\n",
              "    </tr>\n",
              "  </tbody>\n",
              "</table>\n",
              "</div>"
            ],
            "text/plain": [
              "               Column name                                        explanation\n",
              "0              Postal code                 postal code of the area (in Paris)\n",
              "1                     date                        date of the row aggregation\n",
              "2      n_daily_data_points  number of daily data poinst that were availabl...\n",
              "3                dayOfWeek     identifier of weekday (0: Monday -> 6: Sunday)\n",
              "4                 day_type                                 weekday or weekend\n",
              "5       BlueCars_taken_sum    Number of bluecars taken that date in that area\n",
              "6    BlueCars_returned_sum  Number of bluecars returned that date in that ...\n",
              "7         Utilib_taken_sum      Number of Utilib taken that date in that area\n",
              "8      Utilib_returned_sum   Number of Utilib returned that date in that area\n",
              "9      Utilib_14_taken_sum  Number of Utilib 1.4 taken that date in that area\n",
              "10  Utilib_14_returned_sum  Number of Utilib 1.4 returned that date in tha...\n",
              "11         Slots_freed_sum  Number of recharging slots released that date ...\n",
              "12         Slots_taken_sum  Number of rechargign slots taken that date in ..."
            ]
          },
          "metadata": {
            "tags": []
          },
          "execution_count": 6
        }
      ]
    },
    {
      "cell_type": "code",
      "metadata": {
        "id": "zd_fNm6b1p8-",
        "colab": {
          "base_uri": "https://localhost:8080/",
          "height": 252
        },
        "outputId": "4e36fe12-8f59-4635-ab62-0a0294a09364"
      },
      "source": [
        "#checking if the columns have appropriate datatypes\n",
        "df.dtypes\n",
        "\n",
        "#some data types have to be changed "
      ],
      "execution_count": null,
      "outputs": [
        {
          "output_type": "execute_result",
          "data": {
            "text/plain": [
              "Postal code                int64\n",
              "date                      object\n",
              "n_daily_data_points        int64\n",
              "dayOfWeek                  int64\n",
              "day_type                  object\n",
              "BlueCars_taken_sum         int64\n",
              "BlueCars_returned_sum      int64\n",
              "Utilib_taken_sum           int64\n",
              "Utilib_returned_sum        int64\n",
              "Utilib_14_taken_sum        int64\n",
              "Utilib_14_returned_sum     int64\n",
              "Slots_freed_sum            int64\n",
              "Slots_taken_sum            int64\n",
              "dtype: object"
            ]
          },
          "metadata": {
            "tags": []
          },
          "execution_count": 7
        }
      ]
    },
    {
      "cell_type": "code",
      "metadata": {
        "id": "Gv6eHSai2bXd",
        "colab": {
          "base_uri": "https://localhost:8080/",
          "height": 34
        },
        "outputId": "b3aaef92-ad2a-4dc3-8646-766b0c8d833c"
      },
      "source": [
        "#checking the size of our dataset\n",
        "df.shape\n",
        "#our dataset has 13 columns and 16,085 rows"
      ],
      "execution_count": null,
      "outputs": [
        {
          "output_type": "execute_result",
          "data": {
            "text/plain": [
              "(16085, 13)"
            ]
          },
          "metadata": {
            "tags": []
          },
          "execution_count": 8
        }
      ]
    },
    {
      "cell_type": "markdown",
      "metadata": {
        "id": "4qn6bq9j3kW6"
      },
      "source": [
        "##Data Preparation: Cleaning our dataset"
      ]
    },
    {
      "cell_type": "markdown",
      "metadata": {
        "id": "MrPb3pKAbGDL"
      },
      "source": [
        "###Uniformity"
      ]
    },
    {
      "cell_type": "code",
      "metadata": {
        "id": "iyc4B-D_21Ux"
      },
      "source": [
        "#standardizing the format of our column names \n",
        "df.columns=df.columns.str.strip().str.lower().str.replace(' ','_')"
      ],
      "execution_count": null,
      "outputs": []
    },
    {
      "cell_type": "code",
      "metadata": {
        "id": "VvYKjuIidZN0",
        "colab": {
          "base_uri": "https://localhost:8080/",
          "height": 101
        },
        "outputId": "f6ba5487-ccab-4e06-c901-a6eca11921aa"
      },
      "source": [
        "#changing a few column names to make them easier to read and manipulate\n",
        "df = df.rename(columns = {'dayofweek':'day_of_week', 'n_daily_data_points':'daily_data_points'})\n",
        "df.columns"
      ],
      "execution_count": null,
      "outputs": [
        {
          "output_type": "execute_result",
          "data": {
            "text/plain": [
              "Index(['postal_code', 'date', 'daily_data_points', 'day_of_week', 'day_type',\n",
              "       'bluecars_taken_sum', 'bluecars_returned_sum', 'utilib_taken_sum',\n",
              "       'utilib_returned_sum', 'utilib_14_taken_sum', 'utilib_14_returned_sum',\n",
              "       'slots_freed_sum', 'slots_taken_sum'],\n",
              "      dtype='object')"
            ]
          },
          "metadata": {
            "tags": []
          },
          "execution_count": 10
        }
      ]
    },
    {
      "cell_type": "code",
      "metadata": {
        "id": "5BBt1-VQh48j"
      },
      "source": [
        "#since our 'date' column is in object data type, we need to change it to datetime datatype\n",
        "df[\"date\"]=pd.to_datetime(df['date'])"
      ],
      "execution_count": null,
      "outputs": []
    },
    {
      "cell_type": "code",
      "metadata": {
        "id": "YE6iojGgjvJL"
      },
      "source": [
        "#converting the 'postal_code' to object datatypes as I want to find out how many postal codes we have\n",
        "df['postal_code']=df['postal_code'].astype('str')"
      ],
      "execution_count": null,
      "outputs": []
    },
    {
      "cell_type": "code",
      "metadata": {
        "id": "EIS9k1rmi4yb",
        "colab": {
          "base_uri": "https://localhost:8080/",
          "height": 252
        },
        "outputId": "940099e6-9bd6-4f2d-d2bc-6bb36957c644"
      },
      "source": [
        "#checking the datatypes to confirm the changes made\n",
        "df.dtypes"
      ],
      "execution_count": null,
      "outputs": [
        {
          "output_type": "execute_result",
          "data": {
            "text/plain": [
              "postal_code                       object\n",
              "date                      datetime64[ns]\n",
              "daily_data_points                  int64\n",
              "day_of_week                        int64\n",
              "day_type                          object\n",
              "bluecars_taken_sum                 int64\n",
              "bluecars_returned_sum              int64\n",
              "utilib_taken_sum                   int64\n",
              "utilib_returned_sum                int64\n",
              "utilib_14_taken_sum                int64\n",
              "utilib_14_returned_sum             int64\n",
              "slots_freed_sum                    int64\n",
              "slots_taken_sum                    int64\n",
              "dtype: object"
            ]
          },
          "metadata": {
            "tags": []
          },
          "execution_count": 13
        }
      ]
    },
    {
      "cell_type": "markdown",
      "metadata": {
        "id": "QLsbM5qbghQp"
      },
      "source": [
        "###Consistency"
      ]
    },
    {
      "cell_type": "code",
      "metadata": {
        "id": "MB_MO9WegWDM",
        "colab": {
          "base_uri": "https://localhost:8080/",
          "height": 67
        },
        "outputId": "37ed5617-ec53-4319-d708-2444135cb8be"
      },
      "source": [
        "#checking for duplicated values\n",
        "df[df.duplicated()]\n",
        "\n",
        "#our dataset shows no inconsistencies as there are no duplicated values"
      ],
      "execution_count": null,
      "outputs": [
        {
          "output_type": "execute_result",
          "data": {
            "text/html": [
              "<div>\n",
              "<style scoped>\n",
              "    .dataframe tbody tr th:only-of-type {\n",
              "        vertical-align: middle;\n",
              "    }\n",
              "\n",
              "    .dataframe tbody tr th {\n",
              "        vertical-align: top;\n",
              "    }\n",
              "\n",
              "    .dataframe thead th {\n",
              "        text-align: right;\n",
              "    }\n",
              "</style>\n",
              "<table border=\"1\" class=\"dataframe\">\n",
              "  <thead>\n",
              "    <tr style=\"text-align: right;\">\n",
              "      <th></th>\n",
              "      <th>postal_code</th>\n",
              "      <th>date</th>\n",
              "      <th>daily_data_points</th>\n",
              "      <th>day_of_week</th>\n",
              "      <th>day_type</th>\n",
              "      <th>bluecars_taken_sum</th>\n",
              "      <th>bluecars_returned_sum</th>\n",
              "      <th>utilib_taken_sum</th>\n",
              "      <th>utilib_returned_sum</th>\n",
              "      <th>utilib_14_taken_sum</th>\n",
              "      <th>utilib_14_returned_sum</th>\n",
              "      <th>slots_freed_sum</th>\n",
              "      <th>slots_taken_sum</th>\n",
              "    </tr>\n",
              "  </thead>\n",
              "  <tbody>\n",
              "  </tbody>\n",
              "</table>\n",
              "</div>"
            ],
            "text/plain": [
              "Empty DataFrame\n",
              "Columns: [postal_code, date, daily_data_points, day_of_week, day_type, bluecars_taken_sum, bluecars_returned_sum, utilib_taken_sum, utilib_returned_sum, utilib_14_taken_sum, utilib_14_returned_sum, slots_freed_sum, slots_taken_sum]\n",
              "Index: []"
            ]
          },
          "metadata": {
            "tags": []
          },
          "execution_count": 14
        }
      ]
    },
    {
      "cell_type": "code",
      "metadata": {
        "id": "DOdvSSwukeV0",
        "colab": {
          "base_uri": "https://localhost:8080/",
          "height": 34
        },
        "outputId": "440e2589-024b-4bc6-a03b-eae10e44e9c3"
      },
      "source": [
        "#checking for unique values in our categorical columns\n",
        "df.postal_code.unique()\n",
        "df.postal_code.nunique()\n",
        "\n",
        "#the company operates in 104 different area/postal codes in the city of Paris"
      ],
      "execution_count": null,
      "outputs": [
        {
          "output_type": "execute_result",
          "data": {
            "text/plain": [
              "104"
            ]
          },
          "metadata": {
            "tags": []
          },
          "execution_count": 15
        }
      ]
    },
    {
      "cell_type": "code",
      "metadata": {
        "id": "dlUhgsaZlLS4",
        "colab": {
          "base_uri": "https://localhost:8080/",
          "height": 34
        },
        "outputId": "f61ee0e0-2450-456c-c5fe-007baf398f4b"
      },
      "source": [
        "#checking for unique values in day_type column\n",
        "df.day_type.unique()\n",
        "df.day_type.nunique()\n",
        "\n",
        "#there are only two day types i.e the weekend or weekdays"
      ],
      "execution_count": null,
      "outputs": [
        {
          "output_type": "execute_result",
          "data": {
            "text/plain": [
              "2"
            ]
          },
          "metadata": {
            "tags": []
          },
          "execution_count": 16
        }
      ]
    },
    {
      "cell_type": "markdown",
      "metadata": {
        "id": "qeXV9pJYf7sE"
      },
      "source": [
        "###Completeness"
      ]
    },
    {
      "cell_type": "code",
      "metadata": {
        "id": "UANvZQiGfYSQ",
        "colab": {
          "base_uri": "https://localhost:8080/",
          "height": 34
        },
        "outputId": "8becaac4-4a67-4025-f882-ea6a634cbb95"
      },
      "source": [
        "#checking if we have missing values\n",
        "df.isnull().values.any()\n",
        "\n",
        "#there are no missing values in our dataset"
      ],
      "execution_count": null,
      "outputs": [
        {
          "output_type": "execute_result",
          "data": {
            "text/plain": [
              "False"
            ]
          },
          "metadata": {
            "tags": []
          },
          "execution_count": 17
        }
      ]
    },
    {
      "cell_type": "code",
      "metadata": {
        "id": "RbKwPqtbgKmc",
        "colab": {
          "base_uri": "https://localhost:8080/",
          "height": 252
        },
        "outputId": "d968856f-48aa-483f-c4f6-1ce304c09cad"
      },
      "source": [
        "#confirming we have no missing values in our dataset\n",
        "df.isna().sum()\n",
        "\n",
        "#we are certain we have no missing values in our dataset hence we conclude our data is complete"
      ],
      "execution_count": null,
      "outputs": [
        {
          "output_type": "execute_result",
          "data": {
            "text/plain": [
              "postal_code               0\n",
              "date                      0\n",
              "daily_data_points         0\n",
              "day_of_week               0\n",
              "day_type                  0\n",
              "bluecars_taken_sum        0\n",
              "bluecars_returned_sum     0\n",
              "utilib_taken_sum          0\n",
              "utilib_returned_sum       0\n",
              "utilib_14_taken_sum       0\n",
              "utilib_14_returned_sum    0\n",
              "slots_freed_sum           0\n",
              "slots_taken_sum           0\n",
              "dtype: int64"
            ]
          },
          "metadata": {
            "tags": []
          },
          "execution_count": 18
        }
      ]
    },
    {
      "cell_type": "markdown",
      "metadata": {
        "id": "ZU2me6U5zpwa"
      },
      "source": [
        "###Checking for outliers"
      ]
    },
    {
      "cell_type": "code",
      "metadata": {
        "id": "tAd7Q60oztlr",
        "colab": {
          "base_uri": "https://localhost:8080/",
          "height": 1000
        },
        "outputId": "729ffe00-be71-4408-9148-ae032dbfe57f"
      },
      "source": [
        "#checking for outliers in all the numerical columns \n",
        "col_names = ['daily_data_points', 'day_of_week', 'bluecars_taken_sum','bluecars_returned_sum', 'utilib_returned_sum','utilib_taken_sum', \n",
        "             'utilib_14_taken_sum', 'utilib_14_returned_sum', 'slots_freed_sum', 'slots_taken_sum']\n",
        "            \n",
        "fig, ax = plt.subplots(len(col_names), figsize = (10, 40))\n",
        "\n",
        "for i, col_val in enumerate(col_names):\n",
        "\n",
        "  sns.boxplot(y= df[col_val], ax=ax[i])\n",
        "  ax[i].set_title('Box plot-{}'.format(col_val), fontsize=10)\n",
        "  ax[i].set_xlabel(col_val, fontsize=8)\n",
        "\n",
        "plt.show()"
      ],
      "execution_count": null,
      "outputs": [
        {
          "output_type": "display_data",
          "data": {
            "image/png": "[encoded data removed]",
            "text/plain": [
              "<Figure size 720x2880 with 10 Axes>"
            ]
          },
          "metadata": {
            "tags": [],
            "needs_background": "light"
          }
        }
      ]
    },
    {
      "cell_type": "code",
      "metadata": {
        "id": "qc6ytOuuATS2",
        "colab": {
          "base_uri": "https://localhost:8080/",
          "height": 284
        },
        "outputId": "b2c1da8f-1344-4193-bf68-97db664aad8d"
      },
      "source": [
        "#checking for outliers in the bluecar taken column\n",
        "df.boxplot(['bluecars_taken_sum'], grid = False)\n",
        "\n",
        "#we can observe major outliers in the bluecars taken column hence further investigation should be done "
      ],
      "execution_count": null,
      "outputs": [
        {
          "output_type": "execute_result",
          "data": {
            "text/plain": [
              "<matplotlib.axes._subplots.AxesSubplot at 0x7f5caa1ed7b8>"
            ]
          },
          "metadata": {
            "tags": []
          },
          "execution_count": 22
        },
        {
          "output_type": "display_data",
          "data": {
            "image/png": "[encoded data removed]",
            "text/plain": [
              "<Figure size 432x288 with 1 Axes>"
            ]
          },
          "metadata": {
            "tags": [],
            "needs_background": "light"
          }
        }
      ]
    },
    {
      "cell_type": "code",
      "metadata": {
        "id": "t2N_XxBoAg4G",
        "colab": {
          "base_uri": "https://localhost:8080/",
          "height": 283
        },
        "outputId": "67de679e-0aab-4e37-d1fa-faba85550da7"
      },
      "source": [
        "#checking for outliers in the bluecar returned column\n",
        "df.boxplot(['bluecars_returned_sum'], grid = False)\n",
        "\n",
        "#we can observe major outliers in the bluecars returned hence further investigation should be conducted to find out why this is so"
      ],
      "execution_count": null,
      "outputs": [
        {
          "output_type": "execute_result",
          "data": {
            "text/plain": [
              "<matplotlib.axes._subplots.AxesSubplot at 0x7f5ca9c77780>"
            ]
          },
          "metadata": {
            "tags": []
          },
          "execution_count": 23
        },
        {
          "output_type": "display_data",
          "data": {
            "image/png": "[encoded data removed]",
            "text/plain": [
              "<Figure size 432x288 with 1 Axes>"
            ]
          },
          "metadata": {
            "tags": [],
            "needs_background": "light"
          }
        }
      ]
    },
    {
      "cell_type": "code",
      "metadata": {
        "id": "fpLC7xY_ChVg",
        "colab": {
          "base_uri": "https://localhost:8080/",
          "height": 510
        },
        "outputId": "8d31112c-418e-472f-b467-1fe63ad8b9e2"
      },
      "source": [
        "#performing percentile based outlier removal in bluecars taken and bluecars returned\n",
        "def Percentile_based_outlier (df, threshold = 95):\n",
        "  diff = (100-threshold)/2\n",
        "  minval, maxval = np.percentile(df,[diff,100-diff])\n",
        "  return (df<minval) | (df>maxval)\n",
        "\n",
        "col_names = ['bluecars_taken_sum','bluecars_returned_sum']\n",
        "            \n",
        "fig, ax = plt.subplots(len(col_names), figsize = (7, 8))\n",
        "\n",
        "for i, col_val in enumerate(col_names):\n",
        "  x = df[col_names][:1000]\n",
        "\n",
        "  sns.distplot(x, ax=ax[i], rug = True, hist = False)\n",
        "  outliers = x[Percentile_based_outlier(x)]\n",
        "  ax[i].plot(outliers, np.zeros_like(outliers),'ro', clip_on = False)\n",
        "  ax[i].set_title('Outlier detection-{}'.format(col_val), fontsize=10)\n",
        "  ax[i].set_xlabel(col_val, fontsize=8)\n",
        "\n",
        "plt.show()\n",
        "\n",
        "#both bluecars taken and bluecars returned columns follow the normal distibution\n",
        "#both the columns are bimodal\n",
        "#both columns show an equal number of outliers on both sides of the tails\n",
        "#there are outliers that are below the 100 mark and those that are between the 400 and 500 mark"
      ],
      "execution_count": null,
      "outputs": [
        {
          "output_type": "display_data",
          "data": {
            "image/png": "[encoded data removed]",
            "text/plain": [
              "<Figure size 504x576 with 2 Axes>"
            ]
          },
          "metadata": {
            "tags": [],
            "needs_background": "light"
          }
        }
      ]
    },
    {
      "cell_type": "markdown",
      "metadata": {
        "id": "zayr4nXQvBl6"
      },
      "source": [
        "###Checking for Anomalies"
      ]
    },
    {
      "cell_type": "code",
      "metadata": {
        "id": "L7YW7ADRu-_S",
        "colab": {
          "base_uri": "https://localhost:8080/",
          "height": 34
        },
        "outputId": "c2a83b72-e50b-4250-a600-1440bc83b0d3"
      },
      "source": [
        "#we will check if there are any anomalies in the bluecars only \n",
        "#outliers in bluecars taken column\n",
        "q1_bluecar_taken = df['bluecars_taken_sum'].quantile(.25)\n",
        "q3_bluecar_taken = df['bluecars_taken_sum'].quantile(.75)\n",
        "iqr_bluecar_taken = q3_bluecar_taken - q1_bluecar_taken\n",
        "iqr_bluecar_taken\n",
        "\n",
        "#we have 115 records that are out of the interquantile range hence we should look further into that"
      ],
      "execution_count": null,
      "outputs": [
        {
          "output_type": "execute_result",
          "data": {
            "text/plain": [
              "115.0"
            ]
          },
          "metadata": {
            "tags": []
          },
          "execution_count": 21
        }
      ]
    },
    {
      "cell_type": "code",
      "metadata": {
        "id": "4RqXkXkaBLzf",
        "colab": {
          "base_uri": "https://localhost:8080/",
          "height": 34
        },
        "outputId": "da011be1-b222-415e-9378-15257dd8c8ea"
      },
      "source": [
        "#we will check if there are any anomalies in the bluecars only \n",
        "#outliers in bluecars returned column\n",
        "q1_bluecar_returned = df['bluecars_returned_sum'].quantile(.25)\n",
        "q3_bluecar_returned = df['bluecars_returned_sum'].quantile(.75)\n",
        "iqr_bluecar_returned = q3_bluecar_returned - q1_bluecar_returned\n",
        "iqr_bluecar_returned\n",
        "\n",
        "#we have 115 records that are out of the interquantile range hence we should look further into that"
      ],
      "execution_count": null,
      "outputs": [
        {
          "output_type": "execute_result",
          "data": {
            "text/plain": [
              "115.0"
            ]
          },
          "metadata": {
            "tags": []
          },
          "execution_count": 24
        }
      ]
    },
    {
      "cell_type": "markdown",
      "metadata": {
        "id": "uhGf_8VKETaY"
      },
      "source": [
        "##Cleaned dataset"
      ]
    },
    {
      "cell_type": "code",
      "metadata": {
        "id": "4JhRD5PFsQS7"
      },
      "source": [
        "#creating a new cleaned df to conduct analysis\n",
        "df1 = df"
      ],
      "execution_count": null,
      "outputs": []
    },
    {
      "cell_type": "code",
      "metadata": {
        "id": "IAMEgB6Csfb0",
        "colab": {
          "base_uri": "https://localhost:8080/",
          "height": 353
        },
        "outputId": "52a9a90e-249b-4b86-9db5-08637b42f8c3"
      },
      "source": [
        "#checking the info \n",
        "df1.info()"
      ],
      "execution_count": null,
      "outputs": [
        {
          "output_type": "stream",
          "text": [
            "<class 'pandas.core.frame.DataFrame'>\n",
            "RangeIndex: 16085 entries, 0 to 16084\n",
            "Data columns (total 13 columns):\n",
            " #   Column                  Non-Null Count  Dtype         \n",
            "---  ------                  --------------  -----         \n",
            " 0   postal_code             16085 non-null  object        \n",
            " 1   date                    16085 non-null  datetime64[ns]\n",
            " 2   daily_data_points       16085 non-null  int64         \n",
            " 3   day_of_week             16085 non-null  int64         \n",
            " 4   day_type                16085 non-null  object        \n",
            " 5   bluecars_taken_sum      16085 non-null  int64         \n",
            " 6   bluecars_returned_sum   16085 non-null  int64         \n",
            " 7   utilib_taken_sum        16085 non-null  int64         \n",
            " 8   utilib_returned_sum     16085 non-null  int64         \n",
            " 9   utilib_14_taken_sum     16085 non-null  int64         \n",
            " 10  utilib_14_returned_sum  16085 non-null  int64         \n",
            " 11  slots_freed_sum         16085 non-null  int64         \n",
            " 12  slots_taken_sum         16085 non-null  int64         \n",
            "dtypes: datetime64[ns](1), int64(10), object(2)\n",
            "memory usage: 1.6+ MB\n"
          ],
          "name": "stdout"
        }
      ]
    },
    {
      "cell_type": "markdown",
      "metadata": {
        "id": "RP6NtHsDly2T"
      },
      "source": [
        "##Analysis: Univariate Analysis"
      ]
    },
    {
      "cell_type": "code",
      "metadata": {
        "id": "G-E2zXyWqhYK",
        "colab": {
          "base_uri": "https://localhost:8080/",
          "height": 304
        },
        "outputId": "5f4b061a-d526-445d-df16-1578b8b965cc"
      },
      "source": [
        "#we will first view a summary of the statistics of our columns\n",
        "df1.describe()"
      ],
      "execution_count": null,
      "outputs": [
        {
          "output_type": "execute_result",
          "data": {
            "text/html": [
              "<div>\n",
              "<style scoped>\n",
              "    .dataframe tbody tr th:only-of-type {\n",
              "        vertical-align: middle;\n",
              "    }\n",
              "\n",
              "    .dataframe tbody tr th {\n",
              "        vertical-align: top;\n",
              "    }\n",
              "\n",
              "    .dataframe thead th {\n",
              "        text-align: right;\n",
              "    }\n",
              "</style>\n",
              "<table border=\"1\" class=\"dataframe\">\n",
              "  <thead>\n",
              "    <tr style=\"text-align: right;\">\n",
              "      <th></th>\n",
              "      <th>daily_data_points</th>\n",
              "      <th>day_of_week</th>\n",
              "      <th>bluecars_taken_sum</th>\n",
              "      <th>bluecars_returned_sum</th>\n",
              "      <th>utilib_taken_sum</th>\n",
              "      <th>utilib_returned_sum</th>\n",
              "      <th>utilib_14_taken_sum</th>\n",
              "      <th>utilib_14_returned_sum</th>\n",
              "      <th>slots_freed_sum</th>\n",
              "      <th>slots_taken_sum</th>\n",
              "    </tr>\n",
              "  </thead>\n",
              "  <tbody>\n",
              "    <tr>\n",
              "      <th>count</th>\n",
              "      <td>16085.000000</td>\n",
              "      <td>16085.000000</td>\n",
              "      <td>16085.000000</td>\n",
              "      <td>16085.000000</td>\n",
              "      <td>16085.000000</td>\n",
              "      <td>16085.000000</td>\n",
              "      <td>16085.000000</td>\n",
              "      <td>16085.000000</td>\n",
              "      <td>16085.000000</td>\n",
              "      <td>16085.000000</td>\n",
              "    </tr>\n",
              "    <tr>\n",
              "      <th>mean</th>\n",
              "      <td>1431.330619</td>\n",
              "      <td>2.969599</td>\n",
              "      <td>125.926951</td>\n",
              "      <td>125.912714</td>\n",
              "      <td>3.698290</td>\n",
              "      <td>3.699099</td>\n",
              "      <td>8.600560</td>\n",
              "      <td>8.599192</td>\n",
              "      <td>22.629033</td>\n",
              "      <td>22.629282</td>\n",
              "    </tr>\n",
              "    <tr>\n",
              "      <th>std</th>\n",
              "      <td>33.212050</td>\n",
              "      <td>2.008378</td>\n",
              "      <td>185.426579</td>\n",
              "      <td>185.501535</td>\n",
              "      <td>5.815058</td>\n",
              "      <td>5.824634</td>\n",
              "      <td>12.870098</td>\n",
              "      <td>12.868993</td>\n",
              "      <td>52.120263</td>\n",
              "      <td>52.146030</td>\n",
              "    </tr>\n",
              "    <tr>\n",
              "      <th>min</th>\n",
              "      <td>1174.000000</td>\n",
              "      <td>0.000000</td>\n",
              "      <td>0.000000</td>\n",
              "      <td>0.000000</td>\n",
              "      <td>0.000000</td>\n",
              "      <td>0.000000</td>\n",
              "      <td>0.000000</td>\n",
              "      <td>0.000000</td>\n",
              "      <td>0.000000</td>\n",
              "      <td>0.000000</td>\n",
              "    </tr>\n",
              "    <tr>\n",
              "      <th>25%</th>\n",
              "      <td>1439.000000</td>\n",
              "      <td>1.000000</td>\n",
              "      <td>20.000000</td>\n",
              "      <td>20.000000</td>\n",
              "      <td>0.000000</td>\n",
              "      <td>0.000000</td>\n",
              "      <td>1.000000</td>\n",
              "      <td>1.000000</td>\n",
              "      <td>0.000000</td>\n",
              "      <td>0.000000</td>\n",
              "    </tr>\n",
              "    <tr>\n",
              "      <th>50%</th>\n",
              "      <td>1440.000000</td>\n",
              "      <td>3.000000</td>\n",
              "      <td>46.000000</td>\n",
              "      <td>46.000000</td>\n",
              "      <td>1.000000</td>\n",
              "      <td>1.000000</td>\n",
              "      <td>3.000000</td>\n",
              "      <td>3.000000</td>\n",
              "      <td>0.000000</td>\n",
              "      <td>0.000000</td>\n",
              "    </tr>\n",
              "    <tr>\n",
              "      <th>75%</th>\n",
              "      <td>1440.000000</td>\n",
              "      <td>5.000000</td>\n",
              "      <td>135.000000</td>\n",
              "      <td>135.000000</td>\n",
              "      <td>4.000000</td>\n",
              "      <td>4.000000</td>\n",
              "      <td>10.000000</td>\n",
              "      <td>10.000000</td>\n",
              "      <td>5.000000</td>\n",
              "      <td>5.000000</td>\n",
              "    </tr>\n",
              "    <tr>\n",
              "      <th>max</th>\n",
              "      <td>1440.000000</td>\n",
              "      <td>6.000000</td>\n",
              "      <td>1352.000000</td>\n",
              "      <td>1332.000000</td>\n",
              "      <td>54.000000</td>\n",
              "      <td>58.000000</td>\n",
              "      <td>100.000000</td>\n",
              "      <td>101.000000</td>\n",
              "      <td>360.000000</td>\n",
              "      <td>359.000000</td>\n",
              "    </tr>\n",
              "  </tbody>\n",
              "</table>\n",
              "</div>"
            ],
            "text/plain": [
              "       daily_data_points   day_of_week  ...  slots_freed_sum  slots_taken_sum\n",
              "count       16085.000000  16085.000000  ...     16085.000000     16085.000000\n",
              "mean         1431.330619      2.969599  ...        22.629033        22.629282\n",
              "std            33.212050      2.008378  ...        52.120263        52.146030\n",
              "min          1174.000000      0.000000  ...         0.000000         0.000000\n",
              "25%          1439.000000      1.000000  ...         0.000000         0.000000\n",
              "50%          1440.000000      3.000000  ...         0.000000         0.000000\n",
              "75%          1440.000000      5.000000  ...         5.000000         5.000000\n",
              "max          1440.000000      6.000000  ...       360.000000       359.000000\n",
              "\n",
              "[8 rows x 10 columns]"
            ]
          },
          "metadata": {
            "tags": []
          },
          "execution_count": 30
        }
      ]
    },
    {
      "cell_type": "markdown",
      "metadata": {
        "id": "hDf27A6_uyld"
      },
      "source": [
        "##Measures of Central Tendency"
      ]
    },
    {
      "cell_type": "code",
      "metadata": {
        "id": "xb3VBV_nCEDb",
        "colab": {
          "base_uri": "https://localhost:8080/",
          "height": 185
        },
        "outputId": "8986cd9c-5925-490e-87e1-c9e9932f52e0"
      },
      "source": [
        "#splitting the dataset into numerical columns and categorical columns for convenience\n",
        "all_columns = list(df1.columns)      #creating a list of all columns\n",
        "all_columns.remove('postal_code')    #removing postal code from the list\n",
        "all_columns.remove('date')           #removing date from the list\n",
        "all_columns.remove('day_type')       #removing day type from the list\n",
        "numerical_columns = all_columns      #creating a list of all numerical columns\n",
        "numerical_columns"
      ],
      "execution_count": null,
      "outputs": [
        {
          "output_type": "execute_result",
          "data": {
            "text/plain": [
              "['daily_data_points',\n",
              " 'day_of_week',\n",
              " 'bluecars_taken_sum',\n",
              " 'bluecars_returned_sum',\n",
              " 'utilib_taken_sum',\n",
              " 'utilib_returned_sum',\n",
              " 'utilib_14_taken_sum',\n",
              " 'utilib_14_returned_sum',\n",
              " 'slots_freed_sum',\n",
              " 'slots_taken_sum']"
            ]
          },
          "metadata": {
            "tags": []
          },
          "execution_count": 31
        }
      ]
    },
    {
      "cell_type": "code",
      "metadata": {
        "id": "s9gWGjjSDomV",
        "colab": {
          "base_uri": "https://localhost:8080/",
          "height": 34
        },
        "outputId": "a0979f4a-d0c9-479c-e8a4-c40f63139b8c"
      },
      "source": [
        "#creating a list of all categorical columns\n",
        "categorical_columns = ['postal_code', 'date', 'day_type']\n",
        "categorical_columns"
      ],
      "execution_count": null,
      "outputs": [
        {
          "output_type": "execute_result",
          "data": {
            "text/plain": [
              "['postal_code', 'date', 'day_type']"
            ]
          },
          "metadata": {
            "tags": []
          },
          "execution_count": 32
        }
      ]
    },
    {
      "cell_type": "markdown",
      "metadata": {
        "id": "ewuq7R39u4P7"
      },
      "source": [
        "###Median"
      ]
    },
    {
      "cell_type": "code",
      "metadata": {
        "id": "CbtThWi3u-jT",
        "colab": {
          "base_uri": "https://localhost:8080/",
          "height": 118
        },
        "outputId": "e0c0e0c0-d54c-4d18-8cb6-b0fd46175fb4"
      },
      "source": [
        "#finding median values for bluecars taken and bluecars returned columns\n",
        "col_names = ['bluecars_taken_sum', 'bluecars_returned_sum']\n",
        "for column in col_names:\n",
        "  print('\\n')\n",
        "  print(column +':' + str(df1[column].median()))\n",
        "\n",
        "#both columns have a median value of 46"
      ],
      "execution_count": null,
      "outputs": [
        {
          "output_type": "stream",
          "text": [
            "\n",
            "\n",
            "bluecars_taken_sum:46.0\n",
            "\n",
            "\n",
            "bluecars_returned_sum:46.0\n"
          ],
          "name": "stdout"
        }
      ]
    },
    {
      "cell_type": "markdown",
      "metadata": {
        "id": "ETA5ZLLLIRFC"
      },
      "source": [
        "###Mode"
      ]
    },
    {
      "cell_type": "code",
      "metadata": {
        "id": "XiCOIW88tvtd",
        "colab": {
          "base_uri": "https://localhost:8080/",
          "height": 151
        },
        "outputId": "72174157-64ec-45a1-9172-1b5abea35cb6"
      },
      "source": [
        "#finding the mode of our columns of interest\n",
        "\n",
        "for column in col_names:\n",
        "  print('\\n')\n",
        "  print(column + ' : ' +str(df1[column].mode()))\n",
        "\n",
        "#the number of bluecars taken most is 12\n",
        "#the number of bluecars returned most is 13"
      ],
      "execution_count": null,
      "outputs": [
        {
          "output_type": "stream",
          "text": [
            "\n",
            "\n",
            "bluecars_taken_sum : 0    12\n",
            "dtype: int64\n",
            "\n",
            "\n",
            "bluecars_returned_sum : 0    13\n",
            "dtype: int64\n"
          ],
          "name": "stdout"
        }
      ]
    },
    {
      "cell_type": "markdown",
      "metadata": {
        "id": "NoqfehGAKH6B"
      },
      "source": [
        "###Mean"
      ]
    },
    {
      "cell_type": "code",
      "metadata": {
        "id": "nC5z9DS1KLPb",
        "colab": {
          "base_uri": "https://localhost:8080/",
          "height": 118
        },
        "outputId": "be6d3b15-61c5-4776-e3ae-26f13cf9f37d"
      },
      "source": [
        "#finding the mean values of the bluecar returned and the bluecar taken columns\n",
        "\n",
        "for column in col_names:\n",
        "  print('\\n')\n",
        "  print(column +' : '+str(df1[column].mean()))\n",
        "\n",
        "#the mean value of the blue cars is 125.926\n",
        "#the mean value of the bluecars is 125.912\n",
        "#we note that the mean values are so close to each other which is expected"
      ],
      "execution_count": null,
      "outputs": [
        {
          "output_type": "stream",
          "text": [
            "\n",
            "\n",
            "bluecars_taken_sum : 125.92695057506994\n",
            "\n",
            "\n",
            "bluecars_returned_sum : 125.912713708424\n"
          ],
          "name": "stdout"
        }
      ]
    },
    {
      "cell_type": "markdown",
      "metadata": {
        "id": "QzVuXzSyN7P-"
      },
      "source": [
        "###Range"
      ]
    },
    {
      "cell_type": "code",
      "metadata": {
        "id": "aEVPjZ3sN-TE",
        "colab": {
          "base_uri": "https://localhost:8080/",
          "height": 118
        },
        "outputId": "cd74248b-5b6d-40cd-9a8d-f91ab7a5613f"
      },
      "source": [
        "#finding the range of the two columns we are interested in\n",
        "def calculate_range(column):                                  #deriving a function for calculating range of all columns\n",
        "  maximum = df1[column].max()                                 #finding the maximum values\n",
        "  minimum = df1[column].min()                                 #finding the minimum values\n",
        "  column_range = maximum - minimum                            #calculating the range\n",
        "  return column_range\n",
        "\n",
        "for column in col_names:                               #using a for loop to caculate range values of all our numerical columns\n",
        "  print('\\n')                                                  #creating space for readability\n",
        "  print(column +'- range: '+ str(calculate_range(column)))  #printing the calculated ranges of all the columns\n",
        "\n",
        "#we notice a difference of 20 cars in the range of the two cars\n",
        "#this could mean there are 20 cars that have been taken but have not been returned/ are yet to be returned\n",
        "#this means we should re-check our records to confirm if this tallies"
      ],
      "execution_count": null,
      "outputs": [
        {
          "output_type": "stream",
          "text": [
            "\n",
            "\n",
            "bluecars_taken_sum- range: 1352\n",
            "\n",
            "\n",
            "bluecars_returned_sum- range: 1332\n"
          ],
          "name": "stdout"
        }
      ]
    },
    {
      "cell_type": "markdown",
      "metadata": {
        "id": "u_ZJ-lmDSyQj"
      },
      "source": [
        "###Interquartile Range"
      ]
    },
    {
      "cell_type": "code",
      "metadata": {
        "id": "mmnpx45wS8qN",
        "colab": {
          "base_uri": "https://localhost:8080/",
          "height": 218
        },
        "outputId": "d953555f-949d-4e67-d9f5-c18818bad399"
      },
      "source": [
        "#calculating interquartile ranges for our columns\n",
        "\n",
        "for column in col_names:\n",
        "  print('\\n')\n",
        "  print((df[column].quantile([0.25, 0.5, 0.75])))\n",
        "\n",
        "#our quantiles seem to tally which is good"
      ],
      "execution_count": null,
      "outputs": [
        {
          "output_type": "stream",
          "text": [
            "\n",
            "\n",
            "0.25     20.0\n",
            "0.50     46.0\n",
            "0.75    135.0\n",
            "Name: bluecars_taken_sum, dtype: float64\n",
            "\n",
            "\n",
            "0.25     20.0\n",
            "0.50     46.0\n",
            "0.75    135.0\n",
            "Name: bluecars_returned_sum, dtype: float64\n"
          ],
          "name": "stdout"
        }
      ]
    },
    {
      "cell_type": "markdown",
      "metadata": {
        "id": "HFKW4tdLN10o"
      },
      "source": [
        "##Measures of Dispersion\n",
        "Variance, Standard deviation, Skewness and Kurtosis"
      ]
    },
    {
      "cell_type": "code",
      "metadata": {
        "id": "GIhAUhEtKz1u",
        "colab": {
          "base_uri": "https://localhost:8080/",
          "height": 218
        },
        "outputId": "e82d4b66-ebde-4fcc-b190-99c21fa4986d"
      },
      "source": [
        "#calculating variance, standard deviations, skewness and kurtosis values for our columns of interest\n",
        "\n",
        "for column in col_names:\n",
        "  print('\\n')\n",
        "  print(column + ', variance: ' +str(df[column].var()))\n",
        "  print(column + ', std_deviation: ' +str(df[column].std()))\n",
        "  print(column + ', skewness: ' +str(df[column].skew()))\n",
        "  print(column + ', kurtosis: ' +str(df[column].kurt()))\n",
        "\n",
        "#the measures of dispersion from both columns don't vary as much\n",
        "#the small variance could be attributed to the difference in range as had been observed \n",
        "#both columns show the data is skewed to the right and they both have fat tails\n",
        "#the variance and standard deviation don't vary as much"
      ],
      "execution_count": null,
      "outputs": [
        {
          "output_type": "stream",
          "text": [
            "\n",
            "\n",
            "bluecars_taken_sum, variance: 34383.01611333789\n",
            "bluecars_taken_sum, std_deviation: 185.42657876727893\n",
            "bluecars_taken_sum, skewness: 2.4063548974959086\n",
            "bluecars_taken_sum, kurtosis: 6.172692305510042\n",
            "\n",
            "\n",
            "bluecars_returned_sum, variance: 34410.819413706275\n",
            "bluecars_returned_sum, std_deviation: 185.50153480148427\n",
            "bluecars_returned_sum, skewness: 2.412084978838923\n",
            "bluecars_returned_sum, kurtosis: 6.1862880957582345\n"
          ],
          "name": "stdout"
        }
      ]
    },
    {
      "cell_type": "markdown",
      "metadata": {
        "id": "B6EKIGHOaCrU"
      },
      "source": [
        "##Histograms"
      ]
    },
    {
      "cell_type": "code",
      "metadata": {
        "id": "F_WSlXIvZx0o",
        "colab": {
          "base_uri": "https://localhost:8080/",
          "height": 602
        },
        "outputId": "717dc7ef-92bb-430e-d300-ecd07a1f6cec"
      },
      "source": [
        "#histograms for our columns of interest\n",
        "\n",
        "sns.set_style('darkgrid')\n",
        "fig, axes = plt.subplots(len(col_names), figsize = (10, 8))\n",
        "fig.suptitle('Distributions of bluecars taken and returned', y= 1.01, color = 'purple', fontsize = 15)\n",
        "\n",
        "for ax, data, name in zip(axes.flatten(), df1, col_names):\n",
        "  sns.distplot(df1[name], ax = ax, kde = True, color = 'maroon')\n",
        "plt.tight_layout()\n",
        "\n",
        "#the distribution plots show the columns are both normally distributed\n",
        "#both columns are skewed to the right"
      ],
      "execution_count": null,
      "outputs": [
        {
          "output_type": "display_data",
          "data": {
            "image/png": "[encoded data removed]",
            "text/plain": [
              "<Figure size 720x576 with 2 Axes>"
            ]
          },
          "metadata": {
            "tags": []
          }
        }
      ]
    },
    {
      "cell_type": "markdown",
      "metadata": {
        "id": "1CXAnL2Cfy7p"
      },
      "source": [
        "##Bar Charts"
      ]
    },
    {
      "cell_type": "code",
      "metadata": {
        "id": "jlhIDRUAjsTq",
        "colab": {
          "base_uri": "https://localhost:8080/",
          "height": 319
        },
        "outputId": "01dc91bd-8723-410d-99f6-bc5d1d214a03"
      },
      "source": [
        "#bar chart for day type\n",
        "df1['day_type'].value_counts().head(10).plot.bar()\n",
        "\n",
        "#we have more records for weekdays as compared to the weekend"
      ],
      "execution_count": null,
      "outputs": [
        {
          "output_type": "execute_result",
          "data": {
            "text/plain": [
              "<matplotlib.axes._subplots.AxesSubplot at 0x7f28dcee6198>"
            ]
          },
          "metadata": {
            "tags": []
          },
          "execution_count": 40
        },
        {
          "output_type": "display_data",
          "data": {
            "image/png": "[encoded data removed]",
            "text/plain": [
              "<Figure size 432x288 with 1 Axes>"
            ]
          },
          "metadata": {
            "tags": []
          }
        }
      ]
    },
    {
      "cell_type": "code",
      "metadata": {
        "id": "JfSI3y_5kyIw",
        "colab": {
          "base_uri": "https://localhost:8080/",
          "height": 282
        },
        "outputId": "b668f9b3-6172-4999-e477-e72092741d5b"
      },
      "source": [
        "#line chart of postal codes \n",
        "df1['postal_code'].value_counts().sort_index().plot.line()\n",
        "\n",
        "#area/postal codes are distributed between 75001 and 94800\n",
        "#we have a few downward spikes meaning some area codes might not be recorded "
      ],
      "execution_count": null,
      "outputs": [
        {
          "output_type": "execute_result",
          "data": {
            "text/plain": [
              "<matplotlib.axes._subplots.AxesSubplot at 0x7f28dce64240>"
            ]
          },
          "metadata": {
            "tags": []
          },
          "execution_count": 41
        },
        {
          "output_type": "display_data",
          "data": {
            "image/png": "[encoded data removed]",
            "text/plain": [
              "<Figure size 432x288 with 1 Axes>"
            ]
          },
          "metadata": {
            "tags": []
          }
        }
      ]
    },
    {
      "cell_type": "markdown",
      "metadata": {
        "id": "EbHsOk8ynxBf"
      },
      "source": [
        "##Bivariate Analysis"
      ]
    },
    {
      "cell_type": "markdown",
      "metadata": {
        "id": "LPT53GmIoy66"
      },
      "source": [
        "###Scatter plots for numerical columns"
      ]
    },
    {
      "cell_type": "code",
      "metadata": {
        "id": "61p9GvtLYkJG",
        "colab": {
          "base_uri": "https://localhost:8080/",
          "height": 295
        },
        "outputId": "62d37849-3c8b-4e3a-f081-a7a191243e8f"
      },
      "source": [
        "#scatter plots for bluecars\n",
        "\n",
        "plt.scatter(x = df1['bluecars_taken_sum'], y = df1['bluecars_returned_sum'])\n",
        "plt.title('scatter plot of bluecars')\n",
        "plt.xlabel('sum of bluecars taken')\n",
        "plt.ylabel('sum of bluecars returned')\n",
        "plt.show()\n",
        "\n",
        "#we observe a linear relationship between the number of bluecars taken and returned"
      ],
      "execution_count": null,
      "outputs": [
        {
          "output_type": "display_data",
          "data": {
            "image/png": "[encoded data removed]",
            "text/plain": [
              "<Figure size 432x288 with 1 Axes>"
            ]
          },
          "metadata": {
            "tags": []
          }
        }
      ]
    },
    {
      "cell_type": "code",
      "metadata": {
        "id": "w458JpcpqwbG",
        "colab": {
          "base_uri": "https://localhost:8080/",
          "height": 295
        },
        "outputId": "a65fc777-d9ca-47c2-bb57-e1434e360c68"
      },
      "source": [
        "#scatter plots for bluecars taken and day of the week\n",
        "plt.scatter(x = df1['bluecars_taken_sum'], y = df1['day_of_week'])\n",
        "plt.title('scatter plot of day of week and bluecars taken')\n",
        "plt.xlabel('sum of blue cars taken')\n",
        "plt.ylabel('day of week')\n",
        "plt.show()\n",
        "\n",
        "#we observe that most bluecars are taken on Saturday followed by Sunday and Friday\n",
        "#We have the least number of blue cars being taken on Monday\n",
        "#we observe that the bluecar is more popular over the weekend"
      ],
      "execution_count": null,
      "outputs": [
        {
          "output_type": "display_data",
          "data": {
            "image/png": "[encoded data removed]",
            "text/plain": [
              "<Figure size 432x288 with 1 Axes>"
            ]
          },
          "metadata": {
            "tags": []
          }
        }
      ]
    },
    {
      "cell_type": "code",
      "metadata": {
        "id": "hmDtlTsTqjZ3",
        "colab": {
          "base_uri": "https://localhost:8080/",
          "height": 295
        },
        "outputId": "b4bcbb36-15bd-4d93-db55-cdea2764262d"
      },
      "source": [
        "#scatter plots for bluecars returned and day of the week\n",
        "plt.scatter(x = df1['bluecars_returned_sum'], y = df1['day_of_week'])\n",
        "plt.title('scatter plot showing when bluecars are returned')\n",
        "plt.xlabel('sum of bluecars returned')\n",
        "plt.ylabel('day of week')\n",
        "plt.show()\n",
        "\n",
        "#we observe the same trend from bluecars taken. This could mean the cars are returned the same day they are taken"
      ],
      "execution_count": null,
      "outputs": [
        {
          "output_type": "display_data",
          "data": {
            "image/png": "[encoded data removed]",
            "text/plain": [
              "<Figure size 432x288 with 1 Axes>"
            ]
          },
          "metadata": {
            "tags": []
          }
        }
      ]
    },
    {
      "cell_type": "code",
      "metadata": {
        "id": "HGQg0Xinr8Nh",
        "colab": {
          "base_uri": "https://localhost:8080/",
          "height": 295
        },
        "outputId": "4cecd56a-39b6-4f0c-f2bb-0703cdc83271"
      },
      "source": [
        "#scatter plots for bluecars taken and postal codes to see which area codes the blue cars are most popular\n",
        "\n",
        "#reconverting the 'postal_code' to int datatype for the purposes of this analysis\n",
        "df['postal_code']=df['postal_code'].astype('int')\n",
        "\n",
        "\n",
        "plt.scatter(x = df1['bluecars_taken_sum'], y = df1['postal_code'])\n",
        "plt.title('scatter plot of the bluecars and postal codes')\n",
        "plt.xlabel('sum of bluecars cars taken')\n",
        "plt.ylabel('sum of postal codes')\n",
        "plt.show()\n",
        "\n",
        "#there is a non-linear relationship between postal code and the bluecars\n",
        "#the bluecar is more popular in the 75000 postal codes\n",
        "#the area codes 8000 - 90000 have no record of the bluecar. \n",
        "#area codes between 90000 and 95000 have a few records of the bluecar"
      ],
      "execution_count": null,
      "outputs": [
        {
          "output_type": "display_data",
          "data": {
            "image/png": "[encoded data removed]",
            "text/plain": [
              "<Figure size 432x288 with 1 Axes>"
            ]
          },
          "metadata": {
            "tags": []
          }
        }
      ]
    },
    {
      "cell_type": "code",
      "metadata": {
        "id": "8mGpchYJs4em",
        "colab": {
          "base_uri": "https://localhost:8080/",
          "height": 295
        },
        "outputId": "3e3423b1-d998-474a-9703-872c8a8a0836"
      },
      "source": [
        "#scatter plots for bluecars taken and slots freed\n",
        "plt.scatter(x = df1['bluecars_taken_sum'], y = df1['slots_freed_sum'])\n",
        "plt.title('scatter plot of bluecars taken and slots freed')\n",
        "plt.xlabel('sum of bluecars cars taken')\n",
        "plt.ylabel('slots freed')\n",
        "plt.show()\n",
        "\n",
        "#the relationship is almost linear between the number of bluecars taken and the slots freed"
      ],
      "execution_count": null,
      "outputs": [
        {
          "output_type": "display_data",
          "data": {
            "image/png": "[encoded data removed]",
            "text/plain": [
              "<Figure size 432x288 with 1 Axes>"
            ]
          },
          "metadata": {
            "tags": []
          }
        }
      ]
    },
    {
      "cell_type": "code",
      "metadata": {
        "id": "fZq2O8ZGtGA7",
        "colab": {
          "base_uri": "https://localhost:8080/",
          "height": 295
        },
        "outputId": "5660f1a2-18a2-4d1d-f7f6-7bcd2e96b4ac"
      },
      "source": [
        "#scatter plots for bluecars taken and slots taken\n",
        "plt.scatter(x = df1['bluecars_taken_sum'], y = df1['slots_taken_sum'])\n",
        "plt.title('scatter plot of blucars taken and slots taken')\n",
        "plt.xlabel('sum of blue cars taken')\n",
        "plt.ylabel('sum of slots taken')\n",
        "plt.show()\n",
        "\n",
        "#a pattern as the one for slots freed is observed"
      ],
      "execution_count": null,
      "outputs": [
        {
          "output_type": "display_data",
          "data": {
            "image/png": "[encoded data removed]",
            "text/plain": [
              "<Figure size 432x288 with 1 Axes>"
            ]
          },
          "metadata": {
            "tags": []
          }
        }
      ]
    },
    {
      "cell_type": "markdown",
      "metadata": {
        "id": "YtHn7_dG251K"
      },
      "source": [
        "###Line graphs"
      ]
    },
    {
      "cell_type": "code",
      "metadata": {
        "id": "VdVTtbsNvDNS",
        "colab": {
          "base_uri": "https://localhost:8080/",
          "height": 296
        },
        "outputId": "c1a81403-e5e8-42de-8fb4-6838bb1ba610"
      },
      "source": [
        "#line graphs of the number of bluecars taken and the days of the week\n",
        "\n",
        "df1['bluecars_taken_sum'], df1['day_of_week'].plot()\n",
        "plt.title('bluecars taken over the week', fontsize = 14, color = 'magenta')\n",
        "plt.ylabel('day of the week')\n",
        "plt.xlabel('bluecars taken')\n",
        "plt.show()\n",
        "\n",
        "#bluecars taken seem to be popular throughout the week"
      ],
      "execution_count": null,
      "outputs": [
        {
          "output_type": "display_data",
          "data": {
            "image/png": "[encoded data removed]",
            "text/plain": [
              "<Figure size 432x288 with 1 Axes>"
            ]
          },
          "metadata": {
            "tags": []
          }
        }
      ]
    },
    {
      "cell_type": "code",
      "metadata": {
        "id": "fF0720lqTri7",
        "colab": {
          "base_uri": "https://localhost:8080/",
          "height": 296
        },
        "outputId": "4cd0583b-3907-4438-dbd7-6f5839c17fdf"
      },
      "source": [
        "#line graphs of the number of bluecars taken and postal codes\n",
        "\n",
        "df1['bluecars_taken_sum'], df1['postal_code'].plot()\n",
        "plt.title('bluecars taken across area codes', fontsize = 14, color = 'magenta')\n",
        "plt.ylabel('area code')\n",
        "plt.xlabel('bluecars taken')\n",
        "plt.show()\n",
        "\n",
        "#the blue car seems to be popular in area codes around 75000\n",
        "#residents of area codes between 78000 and 92000 don't have a preference for the blue car\n",
        "#there is some interest in the bluecar around the area codes 92000 and 95000"
      ],
      "execution_count": null,
      "outputs": [
        {
          "output_type": "display_data",
          "data": {
            "image/png": "[encoded data removed]",
            "text/plain": [
              "<Figure size 432x288 with 1 Axes>"
            ]
          },
          "metadata": {
            "tags": []
          }
        }
      ]
    },
    {
      "cell_type": "markdown",
      "metadata": {
        "id": "W8HlwffnVRJ-"
      },
      "source": [
        "###Correlation"
      ]
    },
    {
      "cell_type": "code",
      "metadata": {
        "id": "oP1ahFFvVQux",
        "colab": {
          "base_uri": "https://localhost:8080/",
          "height": 34
        },
        "outputId": "b901e146-6cfd-4e82-c13a-3c06d73c9759"
      },
      "source": [
        "#whats the correlation between the bluecar and postal codes\n",
        "df1['bluecars_taken_sum'].corr(df1['postal_code'])\n",
        "\n",
        "#there is a strong negative correlation between the postal codes and blue cars taken"
      ],
      "execution_count": null,
      "outputs": [
        {
          "output_type": "execute_result",
          "data": {
            "text/plain": [
              "-0.6980199787851213"
            ]
          },
          "metadata": {
            "tags": []
          },
          "execution_count": 62
        }
      ]
    },
    {
      "cell_type": "code",
      "metadata": {
        "id": "8pL3zx_XWKmo",
        "colab": {
          "base_uri": "https://localhost:8080/",
          "height": 34
        },
        "outputId": "bf2c2d16-1a12-4dba-d4f4-2da54d2649c1"
      },
      "source": [
        "#whats the correlation between the bluecar and day of week\n",
        "df1['bluecars_taken_sum'].corr(df1['day_of_week'])\n",
        "\n",
        "#there is a weak positive correlation between day of the week and blue cars taken"
      ],
      "execution_count": null,
      "outputs": [
        {
          "output_type": "execute_result",
          "data": {
            "text/plain": [
              "0.07964926759308416"
            ]
          },
          "metadata": {
            "tags": []
          },
          "execution_count": 63
        }
      ]
    },
    {
      "cell_type": "code",
      "metadata": {
        "id": "nael1T_ABIEb",
        "colab": {
          "base_uri": "https://localhost:8080/",
          "height": 611
        },
        "outputId": "6257c708-69ae-4f15-bf58-91c639b4ca38"
      },
      "source": [
        "#correlation matrix\n",
        "\n",
        "f, ax = plt.subplots(figsize = (10,8))\n",
        "corr = df1.corr()\n",
        "sns.heatmap(corr, \n",
        "            xticklabels = corr.columns.values,\n",
        "            yticklabels = corr.columns.values)"
      ],
      "execution_count": null,
      "outputs": [
        {
          "output_type": "execute_result",
          "data": {
            "text/plain": [
              "<matplotlib.axes._subplots.AxesSubplot at 0x7f28d8062828>"
            ]
          },
          "metadata": {
            "tags": []
          },
          "execution_count": 51
        },
        {
          "output_type": "display_data",
          "data": {
            "image/png": "[encoded data removed]",
            "text/plain": [
              "<Figure size 720x576 with 2 Axes>"
            ]
          },
          "metadata": {
            "tags": []
          }
        }
      ]
    },
    {
      "cell_type": "markdown",
      "metadata": {
        "id": "f8a3pHMNXUR_"
      },
      "source": [
        "###Tests"
      ]
    },
    {
      "cell_type": "code",
      "metadata": {
        "id": "YdXaRuhODLYK",
        "colab": {
          "base_uri": "https://localhost:8080/",
          "height": 34
        },
        "outputId": "47df3a1d-3c2f-41d5-8465-d1420a2f40fd"
      },
      "source": [
        "#computing t-test\n",
        "#importing t-test_1 samp from scipy.stats\n",
        "from scipy.stats import ttest_ind\n",
        "\n",
        "#calculating t_test\n",
        "t_statistic, p_value = ttest_ind(df1['bluecars_taken_sum'], df1['postal_code'])\n",
        "t_statistic"
      ],
      "execution_count": null,
      "outputs": [
        {
          "output_type": "execute_result",
          "data": {
            "text/plain": [
              "-1470.0307057452453"
            ]
          },
          "metadata": {
            "tags": []
          },
          "execution_count": 65
        }
      ]
    },
    {
      "cell_type": "markdown",
      "metadata": {
        "id": "c1DGunjzSWW-"
      },
      "source": [
        "#Implementing the solution"
      ]
    },
    {
      "cell_type": "markdown",
      "metadata": {
        "id": "4HZmRyrZPGkS"
      },
      "source": [
        "##Hypothesis Testing"
      ]
    },
    {
      "cell_type": "markdown",
      "metadata": {
        "id": "awUBacYqZI7d"
      },
      "source": [
        "The aim of this analysis was to investigate the claim that the number of transactions recorded for a given area code reflects to the demand of the blue car in that area code. \n",
        "\n",
        "This claim gave rise to the following questions:  \n",
        "\n",
        "Is it correct to say that the demand for the blue car is higher in area codes that have more number of records and vice versa? If this claim is correct, how do we tell the difference in demand for the blue car where area codes have an equal number of transactions recorded? Do we assume that since the area codes have the same number of transactions recorded then the demand for the blue car is equal in those area codes?\n",
        "\n",
        "As the data scientist of this company, I would like to investigate the claim and look into these questions. For the sakes of the testing, I will have to use two populations to compare two area codes that have recorded the same number of transactions. Hence I will formulate my hypothesis test as below: \n",
        "\n",
        "**Null hypothesis:** The mean number of bluecars taken in area code x is the same as the bluecars taken in area code y\n",
        "\n",
        "**Alternative hypothesis:** The mean number of bluecars taken in area code x is not the same as the mean number of bluecars taken in area code y"
      ]
    },
    {
      "cell_type": "markdown",
      "metadata": {
        "id": "g1XG0uUIGNLf"
      },
      "source": [
        "#Sampling\n",
        "We will select samples from two columns i.e postal_code and day_type. \n",
        "The period of interest for this study is over the weekend hence we shall perform a simple random sample on weekend days only. We use simple random sampling as it is easy to use and does not exhibit biasness"
      ]
    },
    {
      "cell_type": "code",
      "metadata": {
        "id": "haTd_brAcZXH",
        "colab": {
          "base_uri": "https://localhost:8080/",
          "height": 34
        },
        "outputId": "c6e2d049-701b-463b-d274-275b4f957537"
      },
      "source": [
        "#how many postal codes do we have in total\n",
        "df1.postal_code.unique()\n",
        "df1.postal_code.nunique()\n",
        "\n",
        "#the total number of postal codes recorded is 104 i.e our population"
      ],
      "execution_count": null,
      "outputs": [
        {
          "output_type": "execute_result",
          "data": {
            "text/plain": [
              "104"
            ]
          },
          "metadata": {
            "tags": []
          },
          "execution_count": 66
        }
      ]
    },
    {
      "cell_type": "code",
      "metadata": {
        "id": "xItX73hvNhmB",
        "colab": {
          "base_uri": "https://localhost:8080/",
          "height": 218
        },
        "outputId": "9a1c71d5-3b3a-43c1-e6c6-4af2681dbb7c"
      },
      "source": [
        "#a breakdown of the number of transactions recorded for each postal code\n",
        "\n",
        "df1['postal_code'].value_counts()\n",
        "\n",
        "#some postal codes have the same number of records while others are different\n",
        "#the highest number of transcations being recorded on a single postal code is 156 while the lowest is 84\n",
        "#there are a total of 104 different number of postal codes \n",
        "#i.e we have a total of 104 different area codes where the company operates"
      ],
      "execution_count": null,
      "outputs": [
        {
          "output_type": "execute_result",
          "data": {
            "text/plain": [
              "94130    156\n",
              "92310    156\n",
              "78140    156\n",
              "94700    156\n",
              "95100    156\n",
              "        ... \n",
              "93150    151\n",
              "93370    149\n",
              "92340    147\n",
              "93200    126\n",
              "93390     84\n",
              "Name: postal_code, Length: 104, dtype: int64"
            ]
          },
          "metadata": {
            "tags": []
          },
          "execution_count": 67
        }
      ]
    },
    {
      "cell_type": "code",
      "metadata": {
        "id": "n69R5KSpN2rS",
        "colab": {
          "base_uri": "https://localhost:8080/",
          "height": 454
        },
        "outputId": "d626e781-b898-4353-f50a-0422befcd8ab"
      },
      "source": [
        "#we shall perform stratified sampling on postal codes as each postal code has a different number of records\n",
        "#we shall breakdown the entire population into groups of individual postal codes \n",
        "#hence we shall have a total of 104 groups and pick samples from each group\n",
        "#will obtain a sample from each of the postal codes recorded to avoid picking a biased sample\n",
        "\n",
        "#performing stratified sampling on postal codes\n",
        "strat_output = df1.groupby('postal_code', group_keys = False).apply(lambda grouped_subset : grouped_subset.sample(frac=0.1))\n",
        "\n",
        "print(strat_output['postal_code'].value_counts())\n",
        "\n",
        "# Check the stratified output\n",
        "print(strat_output)\n",
        "\n",
        "#we still have a total of 104 postal codes in our sample hence all postal codes have been represented"
      ],
      "execution_count": null,
      "outputs": [
        {
          "output_type": "stream",
          "text": [
            "92150    16\n",
            "92380    16\n",
            "92400    16\n",
            "94450    16\n",
            "92410    16\n",
            "         ..\n",
            "92360    15\n",
            "93150    15\n",
            "93370    15\n",
            "93200    13\n",
            "93390     8\n",
            "Name: postal_code, Length: 104, dtype: int64\n",
            "       postal_code       date  ...  slots_freed_sum  slots_taken_sum\n",
            "129          75001 2018-05-24  ...               19               18\n",
            "152          75001 2018-06-16  ...               35               34\n",
            "142          75001 2018-06-06  ...               10               11\n",
            "79           75001 2018-03-24  ...               27               27\n",
            "58           75001 2018-03-03  ...               27               26\n",
            "...            ...        ...  ...              ...              ...\n",
            "16069        95880 2018-06-04  ...                0                0\n",
            "16082        95880 2018-06-17  ...                0                0\n",
            "15953        95880 2018-01-25  ...                0                0\n",
            "15994        95880 2018-03-10  ...                0                0\n",
            "15997        95880 2018-03-13  ...                0                0\n",
            "\n",
            "[1648 rows x 13 columns]\n"
          ],
          "name": "stdout"
        }
      ]
    },
    {
      "cell_type": "code",
      "metadata": {
        "id": "ai2hU_hY45cg",
        "colab": {
          "base_uri": "https://localhost:8080/",
          "height": 206
        },
        "outputId": "9d94e6e9-789a-40f8-c454-2c66d2f7ae97"
      },
      "source": [
        "#sampled postal codes df\n",
        "postal_code_sample = pd.DataFrame(strat_output)\n",
        "postal_code_sample.head(3)"
      ],
      "execution_count": null,
      "outputs": [
        {
          "output_type": "execute_result",
          "data": {
            "text/html": [
              "<div>\n",
              "<style scoped>\n",
              "    .dataframe tbody tr th:only-of-type {\n",
              "        vertical-align: middle;\n",
              "    }\n",
              "\n",
              "    .dataframe tbody tr th {\n",
              "        vertical-align: top;\n",
              "    }\n",
              "\n",
              "    .dataframe thead th {\n",
              "        text-align: right;\n",
              "    }\n",
              "</style>\n",
              "<table border=\"1\" class=\"dataframe\">\n",
              "  <thead>\n",
              "    <tr style=\"text-align: right;\">\n",
              "      <th></th>\n",
              "      <th>postal_code</th>\n",
              "      <th>date</th>\n",
              "      <th>daily_data_points</th>\n",
              "      <th>day_of_week</th>\n",
              "      <th>day_type</th>\n",
              "      <th>bluecars_taken_sum</th>\n",
              "      <th>bluecars_returned_sum</th>\n",
              "      <th>utilib_taken_sum</th>\n",
              "      <th>utilib_returned_sum</th>\n",
              "      <th>utilib_14_taken_sum</th>\n",
              "      <th>utilib_14_returned_sum</th>\n",
              "      <th>slots_freed_sum</th>\n",
              "      <th>slots_taken_sum</th>\n",
              "    </tr>\n",
              "  </thead>\n",
              "  <tbody>\n",
              "    <tr>\n",
              "      <th>129</th>\n",
              "      <td>75001</td>\n",
              "      <td>2018-05-24</td>\n",
              "      <td>1436</td>\n",
              "      <td>3</td>\n",
              "      <td>weekday</td>\n",
              "      <td>116</td>\n",
              "      <td>116</td>\n",
              "      <td>4</td>\n",
              "      <td>4</td>\n",
              "      <td>8</td>\n",
              "      <td>8</td>\n",
              "      <td>19</td>\n",
              "      <td>18</td>\n",
              "    </tr>\n",
              "    <tr>\n",
              "      <th>152</th>\n",
              "      <td>75001</td>\n",
              "      <td>2018-06-16</td>\n",
              "      <td>1440</td>\n",
              "      <td>5</td>\n",
              "      <td>weekend</td>\n",
              "      <td>203</td>\n",
              "      <td>206</td>\n",
              "      <td>7</td>\n",
              "      <td>7</td>\n",
              "      <td>18</td>\n",
              "      <td>18</td>\n",
              "      <td>35</td>\n",
              "      <td>34</td>\n",
              "    </tr>\n",
              "    <tr>\n",
              "      <th>142</th>\n",
              "      <td>75001</td>\n",
              "      <td>2018-06-06</td>\n",
              "      <td>1440</td>\n",
              "      <td>2</td>\n",
              "      <td>weekday</td>\n",
              "      <td>109</td>\n",
              "      <td>108</td>\n",
              "      <td>5</td>\n",
              "      <td>5</td>\n",
              "      <td>19</td>\n",
              "      <td>19</td>\n",
              "      <td>10</td>\n",
              "      <td>11</td>\n",
              "    </tr>\n",
              "  </tbody>\n",
              "</table>\n",
              "</div>"
            ],
            "text/plain": [
              "     postal_code       date  ...  slots_freed_sum  slots_taken_sum\n",
              "129        75001 2018-05-24  ...               19               18\n",
              "152        75001 2018-06-16  ...               35               34\n",
              "142        75001 2018-06-06  ...               10               11\n",
              "\n",
              "[3 rows x 13 columns]"
            ]
          },
          "metadata": {
            "tags": []
          },
          "execution_count": 70
        }
      ]
    },
    {
      "cell_type": "code",
      "metadata": {
        "id": "ytli6UyF5Vh7",
        "colab": {
          "base_uri": "https://localhost:8080/",
          "height": 34
        },
        "outputId": "6544e1f7-27b0-4d06-9a6a-0182b416a9ad"
      },
      "source": [
        "#sample size\n",
        "postal_code_sample.shape\n",
        "\n",
        "#the postal code sample contains 1648 records which is 10% of our entire population"
      ],
      "execution_count": null,
      "outputs": [
        {
          "output_type": "execute_result",
          "data": {
            "text/plain": [
              "(1648, 13)"
            ]
          },
          "metadata": {
            "tags": []
          },
          "execution_count": 71
        }
      ]
    },
    {
      "cell_type": "code",
      "metadata": {
        "id": "cSzIY0-Ob72G",
        "colab": {
          "base_uri": "https://localhost:8080/",
          "height": 206
        },
        "outputId": "f2531f87-9133-4955-dfcb-b05c28cc9767"
      },
      "source": [
        "#creating a dataframe where the day type is weekend only from the sample df we have just selected as this is the selected period of interest\n",
        "weekend_df = postal_code_sample.loc[postal_code_sample['day_type'] == 'weekend']\n",
        "weekend_df.head(3)\n",
        "\n",
        "#this will be our sample that we shall use for our test"
      ],
      "execution_count": null,
      "outputs": [
        {
          "output_type": "execute_result",
          "data": {
            "text/html": [
              "<div>\n",
              "<style scoped>\n",
              "    .dataframe tbody tr th:only-of-type {\n",
              "        vertical-align: middle;\n",
              "    }\n",
              "\n",
              "    .dataframe tbody tr th {\n",
              "        vertical-align: top;\n",
              "    }\n",
              "\n",
              "    .dataframe thead th {\n",
              "        text-align: right;\n",
              "    }\n",
              "</style>\n",
              "<table border=\"1\" class=\"dataframe\">\n",
              "  <thead>\n",
              "    <tr style=\"text-align: right;\">\n",
              "      <th></th>\n",
              "      <th>postal_code</th>\n",
              "      <th>date</th>\n",
              "      <th>daily_data_points</th>\n",
              "      <th>day_of_week</th>\n",
              "      <th>day_type</th>\n",
              "      <th>bluecars_taken_sum</th>\n",
              "      <th>bluecars_returned_sum</th>\n",
              "      <th>utilib_taken_sum</th>\n",
              "      <th>utilib_returned_sum</th>\n",
              "      <th>utilib_14_taken_sum</th>\n",
              "      <th>utilib_14_returned_sum</th>\n",
              "      <th>slots_freed_sum</th>\n",
              "      <th>slots_taken_sum</th>\n",
              "    </tr>\n",
              "  </thead>\n",
              "  <tbody>\n",
              "    <tr>\n",
              "      <th>152</th>\n",
              "      <td>75001</td>\n",
              "      <td>2018-06-16</td>\n",
              "      <td>1440</td>\n",
              "      <td>5</td>\n",
              "      <td>weekend</td>\n",
              "      <td>203</td>\n",
              "      <td>206</td>\n",
              "      <td>7</td>\n",
              "      <td>7</td>\n",
              "      <td>18</td>\n",
              "      <td>18</td>\n",
              "      <td>35</td>\n",
              "      <td>34</td>\n",
              "    </tr>\n",
              "    <tr>\n",
              "      <th>79</th>\n",
              "      <td>75001</td>\n",
              "      <td>2018-03-24</td>\n",
              "      <td>1440</td>\n",
              "      <td>5</td>\n",
              "      <td>weekend</td>\n",
              "      <td>196</td>\n",
              "      <td>196</td>\n",
              "      <td>11</td>\n",
              "      <td>11</td>\n",
              "      <td>13</td>\n",
              "      <td>13</td>\n",
              "      <td>27</td>\n",
              "      <td>27</td>\n",
              "    </tr>\n",
              "    <tr>\n",
              "      <th>58</th>\n",
              "      <td>75001</td>\n",
              "      <td>2018-03-03</td>\n",
              "      <td>1440</td>\n",
              "      <td>5</td>\n",
              "      <td>weekend</td>\n",
              "      <td>192</td>\n",
              "      <td>193</td>\n",
              "      <td>1</td>\n",
              "      <td>1</td>\n",
              "      <td>9</td>\n",
              "      <td>7</td>\n",
              "      <td>27</td>\n",
              "      <td>26</td>\n",
              "    </tr>\n",
              "  </tbody>\n",
              "</table>\n",
              "</div>"
            ],
            "text/plain": [
              "     postal_code       date  ...  slots_freed_sum  slots_taken_sum\n",
              "152        75001 2018-06-16  ...               35               34\n",
              "79         75001 2018-03-24  ...               27               27\n",
              "58         75001 2018-03-03  ...               27               26\n",
              "\n",
              "[3 rows x 13 columns]"
            ]
          },
          "metadata": {
            "tags": []
          },
          "execution_count": 72
        }
      ]
    },
    {
      "cell_type": "code",
      "metadata": {
        "id": "nvKB0sQo8D9x",
        "colab": {
          "base_uri": "https://localhost:8080/",
          "height": 206
        },
        "outputId": "0a4c9085-11df-496b-fa05-1d3bc9d3bae8"
      },
      "source": [
        "#previewing the tail of our sample\n",
        "weekend_df.tail(3)"
      ],
      "execution_count": null,
      "outputs": [
        {
          "output_type": "execute_result",
          "data": {
            "text/html": [
              "<div>\n",
              "<style scoped>\n",
              "    .dataframe tbody tr th:only-of-type {\n",
              "        vertical-align: middle;\n",
              "    }\n",
              "\n",
              "    .dataframe tbody tr th {\n",
              "        vertical-align: top;\n",
              "    }\n",
              "\n",
              "    .dataframe thead th {\n",
              "        text-align: right;\n",
              "    }\n",
              "</style>\n",
              "<table border=\"1\" class=\"dataframe\">\n",
              "  <thead>\n",
              "    <tr style=\"text-align: right;\">\n",
              "      <th></th>\n",
              "      <th>postal_code</th>\n",
              "      <th>date</th>\n",
              "      <th>daily_data_points</th>\n",
              "      <th>day_of_week</th>\n",
              "      <th>day_type</th>\n",
              "      <th>bluecars_taken_sum</th>\n",
              "      <th>bluecars_returned_sum</th>\n",
              "      <th>utilib_taken_sum</th>\n",
              "      <th>utilib_returned_sum</th>\n",
              "      <th>utilib_14_taken_sum</th>\n",
              "      <th>utilib_14_returned_sum</th>\n",
              "      <th>slots_freed_sum</th>\n",
              "      <th>slots_taken_sum</th>\n",
              "    </tr>\n",
              "  </thead>\n",
              "  <tbody>\n",
              "    <tr>\n",
              "      <th>16044</th>\n",
              "      <td>95880</td>\n",
              "      <td>2018-04-29</td>\n",
              "      <td>1440</td>\n",
              "      <td>6</td>\n",
              "      <td>weekend</td>\n",
              "      <td>30</td>\n",
              "      <td>26</td>\n",
              "      <td>0</td>\n",
              "      <td>0</td>\n",
              "      <td>2</td>\n",
              "      <td>2</td>\n",
              "      <td>0</td>\n",
              "      <td>0</td>\n",
              "    </tr>\n",
              "    <tr>\n",
              "      <th>16082</th>\n",
              "      <td>95880</td>\n",
              "      <td>2018-06-17</td>\n",
              "      <td>1440</td>\n",
              "      <td>6</td>\n",
              "      <td>weekend</td>\n",
              "      <td>33</td>\n",
              "      <td>35</td>\n",
              "      <td>1</td>\n",
              "      <td>1</td>\n",
              "      <td>0</td>\n",
              "      <td>0</td>\n",
              "      <td>0</td>\n",
              "      <td>0</td>\n",
              "    </tr>\n",
              "    <tr>\n",
              "      <th>15994</th>\n",
              "      <td>95880</td>\n",
              "      <td>2018-03-10</td>\n",
              "      <td>1440</td>\n",
              "      <td>5</td>\n",
              "      <td>weekend</td>\n",
              "      <td>23</td>\n",
              "      <td>22</td>\n",
              "      <td>0</td>\n",
              "      <td>0</td>\n",
              "      <td>1</td>\n",
              "      <td>1</td>\n",
              "      <td>0</td>\n",
              "      <td>0</td>\n",
              "    </tr>\n",
              "  </tbody>\n",
              "</table>\n",
              "</div>"
            ],
            "text/plain": [
              "       postal_code       date  ...  slots_freed_sum  slots_taken_sum\n",
              "16044        95880 2018-04-29  ...                0                0\n",
              "16082        95880 2018-06-17  ...                0                0\n",
              "15994        95880 2018-03-10  ...                0                0\n",
              "\n",
              "[3 rows x 13 columns]"
            ]
          },
          "metadata": {
            "tags": []
          },
          "execution_count": 73
        }
      ]
    },
    {
      "cell_type": "code",
      "metadata": {
        "id": "6ku_C_E8fVU0",
        "colab": {
          "base_uri": "https://localhost:8080/",
          "height": 34
        },
        "outputId": "431b9fd9-07f8-4ead-cce7-b89355e76cdb"
      },
      "source": [
        "#size of our sampe\n",
        "weekend_df.shape\n",
        "\n",
        "#our sample now contains 461 records"
      ],
      "execution_count": null,
      "outputs": [
        {
          "output_type": "execute_result",
          "data": {
            "text/plain": [
              "(461, 13)"
            ]
          },
          "metadata": {
            "tags": []
          },
          "execution_count": 74
        }
      ]
    },
    {
      "cell_type": "code",
      "metadata": {
        "id": "pYriQpOdFaeY",
        "colab": {
          "base_uri": "https://localhost:8080/",
          "height": 50
        },
        "outputId": "d3308b0d-fab9-4306-96c3-47478a7ce3c3"
      },
      "source": [
        "#confirming how many days we are working with\n",
        "weekend_df['day_type'].value_counts()\n"
      ],
      "execution_count": null,
      "outputs": [
        {
          "output_type": "execute_result",
          "data": {
            "text/plain": [
              "weekend    461\n",
              "Name: day_type, dtype: int64"
            ]
          },
          "metadata": {
            "tags": []
          },
          "execution_count": 75
        }
      ]
    },
    {
      "cell_type": "code",
      "metadata": {
        "id": "i4TR-uIi-_-i",
        "colab": {
          "base_uri": "https://localhost:8080/",
          "height": 218
        },
        "outputId": "4448141d-f5e7-4c77-bdbc-e0baa8d09906"
      },
      "source": [
        "#confirming how many area codes we are working with\n",
        "weekend_df['postal_code'].value_counts()\n",
        "\n",
        "#we are now down to 102 postal codes out of 104.\n",
        "#Hence the two postal codes don't have a single transaction recorded over the weekend \n",
        "#the number of transactions recorded have also reduced greatly,. \n",
        "#This confirms that most transactions were recorded on weekdays rather than the weekend"
      ],
      "execution_count": null,
      "outputs": [
        {
          "output_type": "execute_result",
          "data": {
            "text/plain": [
              "94220    9\n",
              "92410    8\n",
              "94120    8\n",
              "75017    7\n",
              "92000    7\n",
              "        ..\n",
              "93200    2\n",
              "75003    2\n",
              "91370    2\n",
              "94700    2\n",
              "93350    2\n",
              "Name: postal_code, Length: 102, dtype: int64"
            ]
          },
          "metadata": {
            "tags": []
          },
          "execution_count": 76
        }
      ]
    },
    {
      "cell_type": "markdown",
      "metadata": {
        "id": "IMwsI8UljYf2"
      },
      "source": [
        "##Mean, Variance and Standard deviation of our sample"
      ]
    },
    {
      "cell_type": "code",
      "metadata": {
        "id": "gJLktY1cU4Rn",
        "colab": {
          "base_uri": "https://localhost:8080/",
          "height": 34
        },
        "outputId": "48ed3390-7c06-43fb-8a63-c1181f9dde04"
      },
      "source": [
        "#obtaining required descriptive statistics for the sample\n",
        "weekend_df['bluecars_taken_sum'].mean()"
      ],
      "execution_count": null,
      "outputs": [
        {
          "output_type": "execute_result",
          "data": {
            "text/plain": [
              "161.0997830802603"
            ]
          },
          "metadata": {
            "tags": []
          },
          "execution_count": 82
        }
      ]
    },
    {
      "cell_type": "code",
      "metadata": {
        "id": "JNRc1Cl5kJ5S",
        "colab": {
          "base_uri": "https://localhost:8080/",
          "height": 34
        },
        "outputId": "8043d6b0-af1d-497e-d0c8-b26751fd0931"
      },
      "source": [
        "weekend_df['bluecars_taken_sum'].var()"
      ],
      "execution_count": null,
      "outputs": [
        {
          "output_type": "execute_result",
          "data": {
            "text/plain": [
              "55569.65523908333"
            ]
          },
          "metadata": {
            "tags": []
          },
          "execution_count": 83
        }
      ]
    },
    {
      "cell_type": "code",
      "metadata": {
        "id": "xtDY-E8NkR4q",
        "colab": {
          "base_uri": "https://localhost:8080/",
          "height": 34
        },
        "outputId": "abd39f16-cf2b-48b7-e2c6-7a987d9459c7"
      },
      "source": [
        "weekend_df['bluecars_taken_sum'].std()"
      ],
      "execution_count": null,
      "outputs": [
        {
          "output_type": "execute_result",
          "data": {
            "text/plain": [
              "235.7321684435184"
            ]
          },
          "metadata": {
            "tags": []
          },
          "execution_count": 84
        }
      ]
    },
    {
      "cell_type": "code",
      "metadata": {
        "id": "gttkZddAmCB5",
        "colab": {
          "base_uri": "https://localhost:8080/",
          "height": 34
        },
        "outputId": "6703d7ac-a616-4d7e-c858-d122808a6c5b"
      },
      "source": [
        "weekend_df['bluecars_taken_sum'].max()"
      ],
      "execution_count": null,
      "outputs": [
        {
          "output_type": "execute_result",
          "data": {
            "text/plain": [
              "1248"
            ]
          },
          "metadata": {
            "tags": []
          },
          "execution_count": 85
        }
      ]
    },
    {
      "cell_type": "code",
      "metadata": {
        "id": "ou1I9XhvmRHo",
        "colab": {
          "base_uri": "https://localhost:8080/",
          "height": 34
        },
        "outputId": "2e9a21cb-b4c4-473f-ac17-a5c47a6b8763"
      },
      "source": [
        "weekend_df['bluecars_taken_sum'].min()"
      ],
      "execution_count": null,
      "outputs": [
        {
          "output_type": "execute_result",
          "data": {
            "text/plain": [
              "0"
            ]
          },
          "metadata": {
            "tags": []
          },
          "execution_count": 86
        }
      ]
    },
    {
      "cell_type": "code",
      "metadata": {
        "id": "_dJuGBql9s4p",
        "colab": {
          "base_uri": "https://localhost:8080/",
          "height": 206
        },
        "outputId": "5f8f013c-d50c-4180-ba4c-0dc0ec6b3def"
      },
      "source": [
        "#creating dataframes for the specified area codes i.e recording the same number of transactions\n",
        "area_code_x = weekend_df.loc[weekend_df['postal_code'] == 75017]\n",
        "area_code_x.head(3)"
      ],
      "execution_count": null,
      "outputs": [
        {
          "output_type": "execute_result",
          "data": {
            "text/html": [
              "<div>\n",
              "<style scoped>\n",
              "    .dataframe tbody tr th:only-of-type {\n",
              "        vertical-align: middle;\n",
              "    }\n",
              "\n",
              "    .dataframe tbody tr th {\n",
              "        vertical-align: top;\n",
              "    }\n",
              "\n",
              "    .dataframe thead th {\n",
              "        text-align: right;\n",
              "    }\n",
              "</style>\n",
              "<table border=\"1\" class=\"dataframe\">\n",
              "  <thead>\n",
              "    <tr style=\"text-align: right;\">\n",
              "      <th></th>\n",
              "      <th>postal_code</th>\n",
              "      <th>date</th>\n",
              "      <th>daily_data_points</th>\n",
              "      <th>day_of_week</th>\n",
              "      <th>day_type</th>\n",
              "      <th>bluecars_taken_sum</th>\n",
              "      <th>bluecars_returned_sum</th>\n",
              "      <th>utilib_taken_sum</th>\n",
              "      <th>utilib_returned_sum</th>\n",
              "      <th>utilib_14_taken_sum</th>\n",
              "      <th>utilib_14_returned_sum</th>\n",
              "      <th>slots_freed_sum</th>\n",
              "      <th>slots_taken_sum</th>\n",
              "    </tr>\n",
              "  </thead>\n",
              "  <tbody>\n",
              "    <tr>\n",
              "      <th>2610</th>\n",
              "      <td>75017</td>\n",
              "      <td>2018-04-28</td>\n",
              "      <td>1440</td>\n",
              "      <td>5</td>\n",
              "      <td>weekend</td>\n",
              "      <td>798</td>\n",
              "      <td>789</td>\n",
              "      <td>22</td>\n",
              "      <td>19</td>\n",
              "      <td>46</td>\n",
              "      <td>50</td>\n",
              "      <td>201</td>\n",
              "      <td>203</td>\n",
              "    </tr>\n",
              "    <tr>\n",
              "      <th>2641</th>\n",
              "      <td>75017</td>\n",
              "      <td>2018-06-09</td>\n",
              "      <td>1440</td>\n",
              "      <td>5</td>\n",
              "      <td>weekend</td>\n",
              "      <td>923</td>\n",
              "      <td>949</td>\n",
              "      <td>22</td>\n",
              "      <td>23</td>\n",
              "      <td>74</td>\n",
              "      <td>71</td>\n",
              "      <td>296</td>\n",
              "      <td>304</td>\n",
              "    </tr>\n",
              "    <tr>\n",
              "      <th>2649</th>\n",
              "      <td>75017</td>\n",
              "      <td>2018-06-17</td>\n",
              "      <td>1440</td>\n",
              "      <td>6</td>\n",
              "      <td>weekend</td>\n",
              "      <td>729</td>\n",
              "      <td>775</td>\n",
              "      <td>21</td>\n",
              "      <td>20</td>\n",
              "      <td>43</td>\n",
              "      <td>50</td>\n",
              "      <td>163</td>\n",
              "      <td>166</td>\n",
              "    </tr>\n",
              "  </tbody>\n",
              "</table>\n",
              "</div>"
            ],
            "text/plain": [
              "      postal_code       date  ...  slots_freed_sum  slots_taken_sum\n",
              "2610        75017 2018-04-28  ...              201              203\n",
              "2641        75017 2018-06-09  ...              296              304\n",
              "2649        75017 2018-06-17  ...              163              166\n",
              "\n",
              "[3 rows x 13 columns]"
            ]
          },
          "metadata": {
            "tags": []
          },
          "execution_count": 90
        }
      ]
    },
    {
      "cell_type": "code",
      "metadata": {
        "id": "WoQeZam--Ubc",
        "colab": {
          "base_uri": "https://localhost:8080/",
          "height": 34
        },
        "outputId": "0033ad98-1356-4692-fed5-4e1b6774a182"
      },
      "source": [
        "area_code_x.shape"
      ],
      "execution_count": null,
      "outputs": [
        {
          "output_type": "execute_result",
          "data": {
            "text/plain": [
              "(7, 13)"
            ]
          },
          "metadata": {
            "tags": []
          },
          "execution_count": 91
        }
      ]
    },
    {
      "cell_type": "code",
      "metadata": {
        "id": "XwujrASxCCqM",
        "colab": {
          "base_uri": "https://localhost:8080/",
          "height": 34
        },
        "outputId": "4d1ac284-d3da-44df-e6ec-ae3bf89a7fc8"
      },
      "source": [
        "#cumulative sum of bluecars taken from the area code\n",
        "area_code_x['bluecars_taken_sum'].std()"
      ],
      "execution_count": null,
      "outputs": [
        {
          "output_type": "execute_result",
          "data": {
            "text/plain": [
              "101.86078267723573"
            ]
          },
          "metadata": {
            "tags": []
          },
          "execution_count": 92
        }
      ]
    },
    {
      "cell_type": "code",
      "metadata": {
        "id": "RMfLmW2WC36d",
        "colab": {
          "base_uri": "https://localhost:8080/",
          "height": 34
        },
        "outputId": "3a2c2e22-b2be-4ee6-a3c7-188ff8ecc9ad"
      },
      "source": [
        "#mean number of bluecars taken from the area code\n",
        "area_code_x['bluecars_taken_sum'].mean()"
      ],
      "execution_count": null,
      "outputs": [
        {
          "output_type": "execute_result",
          "data": {
            "text/plain": [
              "820.5714285714286"
            ]
          },
          "metadata": {
            "tags": []
          },
          "execution_count": 93
        }
      ]
    },
    {
      "cell_type": "code",
      "metadata": {
        "id": "U78i2Ov5_jlo",
        "colab": {
          "base_uri": "https://localhost:8080/",
          "height": 206
        },
        "outputId": "54a1c380-a401-411d-d577-071b2b2d88a7"
      },
      "source": [
        "area_code_y = weekend_df.loc[weekend_df['postal_code']== 92000]\n",
        "area_code_y.head(3)"
      ],
      "execution_count": null,
      "outputs": [
        {
          "output_type": "execute_result",
          "data": {
            "text/html": [
              "<div>\n",
              "<style scoped>\n",
              "    .dataframe tbody tr th:only-of-type {\n",
              "        vertical-align: middle;\n",
              "    }\n",
              "\n",
              "    .dataframe tbody tr th {\n",
              "        vertical-align: top;\n",
              "    }\n",
              "\n",
              "    .dataframe thead th {\n",
              "        text-align: right;\n",
              "    }\n",
              "</style>\n",
              "<table border=\"1\" class=\"dataframe\">\n",
              "  <thead>\n",
              "    <tr style=\"text-align: right;\">\n",
              "      <th></th>\n",
              "      <th>postal_code</th>\n",
              "      <th>date</th>\n",
              "      <th>daily_data_points</th>\n",
              "      <th>day_of_week</th>\n",
              "      <th>day_type</th>\n",
              "      <th>bluecars_taken_sum</th>\n",
              "      <th>bluecars_returned_sum</th>\n",
              "      <th>utilib_taken_sum</th>\n",
              "      <th>utilib_returned_sum</th>\n",
              "      <th>utilib_14_taken_sum</th>\n",
              "      <th>utilib_14_returned_sum</th>\n",
              "      <th>slots_freed_sum</th>\n",
              "      <th>slots_taken_sum</th>\n",
              "    </tr>\n",
              "  </thead>\n",
              "  <tbody>\n",
              "    <tr>\n",
              "      <th>4385</th>\n",
              "      <td>92000</td>\n",
              "      <td>2018-01-20</td>\n",
              "      <td>1439</td>\n",
              "      <td>5</td>\n",
              "      <td>weekend</td>\n",
              "      <td>158</td>\n",
              "      <td>180</td>\n",
              "      <td>9</td>\n",
              "      <td>7</td>\n",
              "      <td>18</td>\n",
              "      <td>18</td>\n",
              "      <td>0</td>\n",
              "      <td>0</td>\n",
              "    </tr>\n",
              "    <tr>\n",
              "      <th>4378</th>\n",
              "      <td>92000</td>\n",
              "      <td>2018-01-13</td>\n",
              "      <td>1440</td>\n",
              "      <td>5</td>\n",
              "      <td>weekend</td>\n",
              "      <td>200</td>\n",
              "      <td>184</td>\n",
              "      <td>1</td>\n",
              "      <td>1</td>\n",
              "      <td>11</td>\n",
              "      <td>9</td>\n",
              "      <td>0</td>\n",
              "      <td>0</td>\n",
              "    </tr>\n",
              "    <tr>\n",
              "      <th>4413</th>\n",
              "      <td>92000</td>\n",
              "      <td>2018-02-17</td>\n",
              "      <td>1440</td>\n",
              "      <td>5</td>\n",
              "      <td>weekend</td>\n",
              "      <td>233</td>\n",
              "      <td>235</td>\n",
              "      <td>17</td>\n",
              "      <td>17</td>\n",
              "      <td>10</td>\n",
              "      <td>11</td>\n",
              "      <td>0</td>\n",
              "      <td>0</td>\n",
              "    </tr>\n",
              "  </tbody>\n",
              "</table>\n",
              "</div>"
            ],
            "text/plain": [
              "      postal_code       date  ...  slots_freed_sum  slots_taken_sum\n",
              "4385        92000 2018-01-20  ...                0                0\n",
              "4378        92000 2018-01-13  ...                0                0\n",
              "4413        92000 2018-02-17  ...                0                0\n",
              "\n",
              "[3 rows x 13 columns]"
            ]
          },
          "metadata": {
            "tags": []
          },
          "execution_count": 95
        }
      ]
    },
    {
      "cell_type": "code",
      "metadata": {
        "id": "v8yb2JU2BvNd",
        "colab": {
          "base_uri": "https://localhost:8080/",
          "height": 34
        },
        "outputId": "564a0dbf-a80d-4440-d94e-9149ea1efafb"
      },
      "source": [
        "area_code_y.shape"
      ],
      "execution_count": null,
      "outputs": [
        {
          "output_type": "execute_result",
          "data": {
            "text/plain": [
              "(7, 13)"
            ]
          },
          "metadata": {
            "tags": []
          },
          "execution_count": 96
        }
      ]
    },
    {
      "cell_type": "code",
      "metadata": {
        "id": "tVupnzWeCiU6",
        "colab": {
          "base_uri": "https://localhost:8080/",
          "height": 34
        },
        "outputId": "ce68a79f-4577-4815-c871-1a9d97fde9dc"
      },
      "source": [
        "#cumulative sum of bluecars taken from the area code\n",
        "area_code_y['bluecars_taken_sum'].std()"
      ],
      "execution_count": null,
      "outputs": [
        {
          "output_type": "execute_result",
          "data": {
            "text/plain": [
              "72.98369028501537"
            ]
          },
          "metadata": {
            "tags": []
          },
          "execution_count": 97
        }
      ]
    },
    {
      "cell_type": "code",
      "metadata": {
        "id": "UXyyna71CnXY",
        "colab": {
          "base_uri": "https://localhost:8080/",
          "height": 34
        },
        "outputId": "9b000987-4828-4a04-925a-6d0467086bbf"
      },
      "source": [
        "#mean number of bluecars taken from the area code\n",
        "area_code_y['bluecars_taken_sum'].mean()"
      ],
      "execution_count": null,
      "outputs": [
        {
          "output_type": "execute_result",
          "data": {
            "text/plain": [
              "152.57142857142858"
            ]
          },
          "metadata": {
            "tags": []
          },
          "execution_count": 98
        }
      ]
    },
    {
      "cell_type": "markdown",
      "metadata": {
        "id": "NCF7C2xRkuIZ"
      },
      "source": [
        "###T-test with two sample means"
      ]
    },
    {
      "cell_type": "code",
      "metadata": {
        "id": "SdSJO4imPk-V",
        "colab": {
          "base_uri": "https://localhost:8080/",
          "height": 50
        },
        "outputId": "48d5501b-6bec-4f74-f949-626d1ab2f82b"
      },
      "source": [
        "#calculating the t - critical value and the t-statistic\n",
        "from scipy.stats import ttest_ind\n",
        "from scipy import stats\n",
        "#assigning variables we will work with\n",
        "n1 = n2 = 7\n",
        "df = n1-1\n",
        "mean1 = 820.57\n",
        "mean2 = 152.57\n",
        "std1 = 101.86\n",
        "std2 = 72.98\n",
        "pop_std = 235.73\n",
        "pop_mean = 161.099\n",
        "alpha = (0.05/2)\n",
        "\n",
        "#step1 1:computing the t-critical value\n",
        "t_critical = stats.t.ppf(alpha, df)\n",
        "print('the t_critical is:', t_critical)\n",
        "\n",
        "#step 2: computing the t_statistic\n",
        "t_statistic = ((mean1 - mean2) - 0) / (std1/np.sqrt(n1)+ std2/np.sqrt(n2))\n",
        "print('the t_statistic value is:', t_statistic)\n",
        "\n",
        "#step 3: Decision and Interpretation\n",
        "#the t_statistic is greater than the t_critical value hence we reject the null hypothesis\n",
        "#the test is statistically significant\n"
      ],
      "execution_count": null,
      "outputs": [
        {
          "output_type": "stream",
          "text": [
            "the t_critical is: -2.446911848791681\n",
            "the t_statistic value is: 10.108452732733623\n"
          ],
          "name": "stdout"
        }
      ]
    },
    {
      "cell_type": "markdown",
      "metadata": {
        "id": "HL50xFgcPM4b"
      },
      "source": [
        "##Point Estimation"
      ]
    },
    {
      "cell_type": "code",
      "metadata": {
        "id": "TF6cUoVwAB15",
        "colab": {
          "base_uri": "https://localhost:8080/",
          "height": 34
        },
        "outputId": "a41c2635-2e8a-4d99-d99e-ecc98bdf9527"
      },
      "source": [
        "#estimating the mean of our bluecars dataset\n",
        "sample_data = df1['bluecars_taken_sum']\n",
        "sample_data\n",
        "\n",
        "#random sampling\n",
        "sample = sample_data.sample(n=400, replace = 'False')\n",
        "\n",
        "#sample mean\n",
        "sample.mean()\n",
        "\n",
        "#the point estimate changes each time this cell is run\n",
        "#for this particular analysis, we shall pick the point estimate of 128.55 which varies greatly from our initial mean of 125.926"
      ],
      "execution_count": null,
      "outputs": [
        {
          "output_type": "execute_result",
          "data": {
            "text/plain": [
              "128.55"
            ]
          },
          "metadata": {
            "tags": []
          },
          "execution_count": 105
        }
      ]
    },
    {
      "cell_type": "markdown",
      "metadata": {
        "id": "NewI74JEQVp5"
      },
      "source": [
        "##Confidence Interval"
      ]
    },
    {
      "cell_type": "code",
      "metadata": {
        "id": "TzUj9JpdCRGK",
        "colab": {
          "base_uri": "https://localhost:8080/",
          "height": 34
        },
        "outputId": "200c4419-bc51-4455-ae3e-c7c9f4b8d561"
      },
      "source": [
        "#computing the confidence interval\n",
        "\n",
        "#step 1: determine our sample \n",
        "sample_data = df1['bluecars_taken_sum']\n",
        "sample_data\n",
        "\n",
        "#step2:determine the sample mean \n",
        "sample_mean = sample_data.mean()\n",
        "sample_mean\n",
        "\n",
        "#step 2: sample size\n",
        "sample_size = df1['bluecars_taken_sum'].shape[0]\n",
        "sample_size\n",
        "\n",
        "#step3: finding the standard error of the mean of the data\n",
        "std_error = sample_data.std() / np.sqrt(sample_size)\n",
        "std_error\n",
        "\n",
        "# Calculating the 95% Confidence Interval for mean data  \n",
        "stats.norm.interval(0.95, loc=sample_mean, scale=std_error)\n",
        "\n",
        "# We can be 95% certain that the population mean data is between 123.061 and 128.79"
      ],
      "execution_count": null,
      "outputs": [
        {
          "output_type": "execute_result",
          "data": {
            "text/plain": [
              "(123.06139032759609, 128.7925108225438)"
            ]
          },
          "metadata": {
            "tags": []
          },
          "execution_count": 106
        }
      ]
    },
    {
      "cell_type": "markdown",
      "metadata": {
        "id": "JfM2zbz-uHUe"
      },
      "source": [
        "###Conclusion and Recommendation"
      ]
    },
    {
      "cell_type": "markdown",
      "metadata": {
        "id": "cRC_QzZ3uK_2"
      },
      "source": [
        "From the hypothesis test, we made the decision to reject the null hypothesis as there was enough evidence to support that the number of blue cars taken in area code x is not the same number of blue cars taken in area code y. For this reason, I recommend that the management should not supply an equal number of bluecars to area codes that have recorded the same number of transactions as this may indeed lead to oversupply or undersupply of the blue cars in these area codes. \n",
        "\n",
        "However, it is important to note that this study was conducted for transactions that were only recorded over the weekend, which from the analysis were less than the transactions recorded during weekdays. This could have greatly reduced the sample size and resulted to commiting Type I error. For this reason, it would be best to conduct the test for transactions recorded for weekdays to see if the results would be different."
      ]
    },
    {
      "cell_type": "code",
      "metadata": {
        "id": "naSzu1U4Rq8Z"
      },
      "source": [
        ""
      ],
      "execution_count": null,
      "outputs": []
    }
  ]
}